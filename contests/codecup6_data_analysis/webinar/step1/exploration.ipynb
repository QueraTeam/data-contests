{
  "nbformat": 4,
  "nbformat_minor": 0,
  "metadata": {
    "colab": {
      "name": "exploration.ipynb",
      "provenance": [],
      "collapsed_sections": []
    },
    "kernelspec": {
      "name": "python3",
      "display_name": "Python 3"
    },
    "language_info": {
      "name": "python"
    }
  },
  "cells": [
    {
      "cell_type": "code",
      "metadata": {
        "id": "3pXDrl095nvq"
      },
      "source": [
        "# Install libraries\n",
        "\n",
        "%%capture\n",
        "\n",
        "! pip install gdown"
      ],
      "execution_count": null,
      "outputs": []
    },
    {
      "cell_type": "code",
      "metadata": {
        "id": "Wgo0rH386nAj"
      },
      "source": [
        "# Upload the dataset\n",
        "\n",
        "%%capture\n",
        "\n",
        "! rm -rf *\n",
        "# ! gdown --id \n",
        "! unzip travel_insurance.zip\n",
        "! rm travel_insurance.zip"
      ],
      "execution_count": null,
      "outputs": []
    },
    {
      "cell_type": "code",
      "metadata": {
        "id": "8QpXnKJ36yFu"
      },
      "source": [
        "# Import libraries\n",
        "\n",
        "%%capture\n",
        "\n",
        "import numpy as np\n",
        "import pandas as pd\n",
        "import pickle\n",
        "from pathlib import Path\n"
      ],
      "execution_count": null,
      "outputs": []
    },
    {
      "cell_type": "code",
      "metadata": {
        "id": "ot9TixiI7cA7"
      },
      "source": [
        "# Set Variables\n",
        "\n",
        "data_dir = Path(\"travel_insurance\")\n",
        "train_file = data_dir/\"train.csv\""
      ],
      "execution_count": null,
      "outputs": []
    },
    {
      "cell_type": "code",
      "metadata": {
        "colab": {
          "base_uri": "https://localhost:8080/",
          "height": 423
        },
        "id": "Q4213_9E7i21",
        "outputId": "f289d2ed-7a07-4b18-ce08-80b1be02ab68"
      },
      "source": [
        "df = pd.read_csv(train_file)\n",
        "df"
      ],
      "execution_count": null,
      "outputs": [
        {
          "output_type": "execute_result",
          "data": {
            "text/html": [
              "<div>\n",
              "<style scoped>\n",
              "    .dataframe tbody tr th:only-of-type {\n",
              "        vertical-align: middle;\n",
              "    }\n",
              "\n",
              "    .dataframe tbody tr th {\n",
              "        vertical-align: top;\n",
              "    }\n",
              "\n",
              "    .dataframe thead th {\n",
              "        text-align: right;\n",
              "    }\n",
              "</style>\n",
              "<table border=\"1\" class=\"dataframe\">\n",
              "  <thead>\n",
              "    <tr style=\"text-align: right;\">\n",
              "      <th></th>\n",
              "      <th>Customer Id</th>\n",
              "      <th>Age</th>\n",
              "      <th>Employment Type</th>\n",
              "      <th>GraduateOrNot</th>\n",
              "      <th>AnnualIncome</th>\n",
              "      <th>FamilyMembers</th>\n",
              "      <th>ChronicDiseases</th>\n",
              "      <th>FrequentFlyer</th>\n",
              "      <th>EverTravelledAbroad</th>\n",
              "      <th>TravelInsurance</th>\n",
              "    </tr>\n",
              "  </thead>\n",
              "  <tbody>\n",
              "    <tr>\n",
              "      <th>0</th>\n",
              "      <td>3JUN0VW6F043</td>\n",
              "      <td>34</td>\n",
              "      <td>Private Sector/Self Employed</td>\n",
              "      <td>Yes</td>\n",
              "      <td>1300000</td>\n",
              "      <td>6</td>\n",
              "      <td>0</td>\n",
              "      <td>Yes</td>\n",
              "      <td>No</td>\n",
              "      <td>No</td>\n",
              "    </tr>\n",
              "    <tr>\n",
              "      <th>1</th>\n",
              "      <td>VLHY2ABIR4QL</td>\n",
              "      <td>28</td>\n",
              "      <td>Private Sector/Self Employed</td>\n",
              "      <td>Yes</td>\n",
              "      <td>750000</td>\n",
              "      <td>7</td>\n",
              "      <td>0</td>\n",
              "      <td>Yes</td>\n",
              "      <td>No</td>\n",
              "      <td>No</td>\n",
              "    </tr>\n",
              "    <tr>\n",
              "      <th>2</th>\n",
              "      <td>6E3F7UNXYNFF</td>\n",
              "      <td>28</td>\n",
              "      <td>Private Sector/Self Employed</td>\n",
              "      <td>Yes</td>\n",
              "      <td>750000</td>\n",
              "      <td>6</td>\n",
              "      <td>0</td>\n",
              "      <td>Yes</td>\n",
              "      <td>No</td>\n",
              "      <td>No</td>\n",
              "    </tr>\n",
              "    <tr>\n",
              "      <th>3</th>\n",
              "      <td>JJ8R0ZRYWR31</td>\n",
              "      <td>32</td>\n",
              "      <td>Government Sector</td>\n",
              "      <td>Yes</td>\n",
              "      <td>800000</td>\n",
              "      <td>6</td>\n",
              "      <td>1</td>\n",
              "      <td>No</td>\n",
              "      <td>No</td>\n",
              "      <td>No</td>\n",
              "    </tr>\n",
              "    <tr>\n",
              "      <th>4</th>\n",
              "      <td>2WGFUEX6IEHM</td>\n",
              "      <td>34</td>\n",
              "      <td>Private Sector/Self Employed</td>\n",
              "      <td>Yes</td>\n",
              "      <td>700000</td>\n",
              "      <td>4</td>\n",
              "      <td>1</td>\n",
              "      <td>No</td>\n",
              "      <td>No</td>\n",
              "      <td>No</td>\n",
              "    </tr>\n",
              "    <tr>\n",
              "      <th>...</th>\n",
              "      <td>...</td>\n",
              "      <td>...</td>\n",
              "      <td>...</td>\n",
              "      <td>...</td>\n",
              "      <td>...</td>\n",
              "      <td>...</td>\n",
              "      <td>...</td>\n",
              "      <td>...</td>\n",
              "      <td>...</td>\n",
              "      <td>...</td>\n",
              "    </tr>\n",
              "    <tr>\n",
              "      <th>1585</th>\n",
              "      <td>W9JDK752JWHA</td>\n",
              "      <td>29</td>\n",
              "      <td>Private Sector/Self Employed</td>\n",
              "      <td>Yes</td>\n",
              "      <td>600000</td>\n",
              "      <td>3</td>\n",
              "      <td>0</td>\n",
              "      <td>No</td>\n",
              "      <td>No</td>\n",
              "      <td>No</td>\n",
              "    </tr>\n",
              "    <tr>\n",
              "      <th>1586</th>\n",
              "      <td>2JEE5P5T9MT0</td>\n",
              "      <td>34</td>\n",
              "      <td>Private Sector/Self Employed</td>\n",
              "      <td>Yes</td>\n",
              "      <td>850000</td>\n",
              "      <td>3</td>\n",
              "      <td>1</td>\n",
              "      <td>No</td>\n",
              "      <td>Yes</td>\n",
              "      <td>No</td>\n",
              "    </tr>\n",
              "    <tr>\n",
              "      <th>1587</th>\n",
              "      <td>797K83M5QWO2</td>\n",
              "      <td>34</td>\n",
              "      <td>Private Sector/Self Employed</td>\n",
              "      <td>No</td>\n",
              "      <td>1300000</td>\n",
              "      <td>4</td>\n",
              "      <td>0</td>\n",
              "      <td>No</td>\n",
              "      <td>No</td>\n",
              "      <td>No</td>\n",
              "    </tr>\n",
              "    <tr>\n",
              "      <th>1588</th>\n",
              "      <td>8V9QYC8TCCMF</td>\n",
              "      <td>33</td>\n",
              "      <td>Government Sector</td>\n",
              "      <td>Yes</td>\n",
              "      <td>400000</td>\n",
              "      <td>5</td>\n",
              "      <td>0</td>\n",
              "      <td>No</td>\n",
              "      <td>No</td>\n",
              "      <td>No</td>\n",
              "    </tr>\n",
              "    <tr>\n",
              "      <th>1589</th>\n",
              "      <td>8VEME4MXPTBC</td>\n",
              "      <td>28</td>\n",
              "      <td>Private Sector/Self Employed</td>\n",
              "      <td>Yes</td>\n",
              "      <td>750000</td>\n",
              "      <td>5</td>\n",
              "      <td>1</td>\n",
              "      <td>Yes</td>\n",
              "      <td>No</td>\n",
              "      <td>No</td>\n",
              "    </tr>\n",
              "  </tbody>\n",
              "</table>\n",
              "<p>1590 rows × 10 columns</p>\n",
              "</div>"
            ],
            "text/plain": [
              "       Customer Id  Age  ... EverTravelledAbroad TravelInsurance\n",
              "0     3JUN0VW6F043   34  ...                  No              No\n",
              "1     VLHY2ABIR4QL   28  ...                  No              No\n",
              "2     6E3F7UNXYNFF   28  ...                  No              No\n",
              "3     JJ8R0ZRYWR31   32  ...                  No              No\n",
              "4     2WGFUEX6IEHM   34  ...                  No              No\n",
              "...            ...  ...  ...                 ...             ...\n",
              "1585  W9JDK752JWHA   29  ...                  No              No\n",
              "1586  2JEE5P5T9MT0   34  ...                 Yes              No\n",
              "1587  797K83M5QWO2   34  ...                  No              No\n",
              "1588  8V9QYC8TCCMF   33  ...                  No              No\n",
              "1589  8VEME4MXPTBC   28  ...                  No              No\n",
              "\n",
              "[1590 rows x 10 columns]"
            ]
          },
          "metadata": {},
          "execution_count": 5
        }
      ]
    },
    {
      "cell_type": "markdown",
      "metadata": {
        "id": "I_ooSxfP_YE3"
      },
      "source": [
        "#**Q1**\n",
        " تعداد سطر و ستون"
      ]
    },
    {
      "cell_type": "code",
      "metadata": {
        "colab": {
          "base_uri": "https://localhost:8080/"
        },
        "id": "3j2is6XP_Uad",
        "outputId": "cebbe568-2b8c-4d7a-bac9-77362942c3bc"
      },
      "source": [
        "print(f\"{df.shape[0]} {df.shape[1]}\")"
      ],
      "execution_count": null,
      "outputs": [
        {
          "output_type": "stream",
          "name": "stdout",
          "text": [
            "1590 10\n"
          ]
        }
      ]
    },
    {
      "cell_type": "markdown",
      "metadata": {
        "id": "nrZ2XrgcVJwH"
      },
      "source": [
        "#**Q2**\n",
        "متوسط درآمد؟"
      ]
    },
    {
      "cell_type": "code",
      "metadata": {
        "colab": {
          "base_uri": "https://localhost:8080/"
        },
        "id": "qvcRJkKcUM_T",
        "outputId": "f291d04f-1752-4cd6-9a8f-80dfe6ca953e"
      },
      "source": [
        "print(int(df[\"AnnualIncome\"].mean()))"
      ],
      "execution_count": null,
      "outputs": [
        {
          "output_type": "stream",
          "name": "stdout",
          "text": [
            "928553\n"
          ]
        }
      ]
    },
    {
      "cell_type": "markdown",
      "metadata": {
        "id": "dEnNJSVxTdxs"
      },
      "source": [
        "#**Q3**\n",
        "چند نفر از مشتریان سابقه سفر خارجی داشته اند؟\n"
      ]
    },
    {
      "cell_type": "code",
      "metadata": {
        "colab": {
          "base_uri": "https://localhost:8080/"
        },
        "id": "dh2J8j8pHFPw",
        "outputId": "02d2a42b-e0af-476b-8363-b4ff6abb0f1e"
      },
      "source": [
        "len(df[df['EverTravelledAbroad'] == 'Yes'])"
      ],
      "execution_count": null,
      "outputs": [
        {
          "output_type": "execute_result",
          "data": {
            "text/plain": [
              "302"
            ]
          },
          "metadata": {},
          "execution_count": 9
        }
      ]
    },
    {
      "cell_type": "markdown",
      "metadata": {
        "id": "a22xZzN1_eCP"
      },
      "source": [
        "#**Q4**\n",
        "افراد در این دیتاست بیشتر در بخش خصوصی به کار گرفته شده اند و یا بیشتر در بخش دولتی، و بیشترین بخش شغل، چند درصدش رو تشکیل میده؟\n"
      ]
    },
    {
      "cell_type": "code",
      "metadata": {
        "colab": {
          "base_uri": "https://localhost:8080/"
        },
        "id": "8GiaqqqBeomr",
        "outputId": "b3a34f3d-f3eb-4d23-9a73-8b25847838fc"
      },
      "source": [
        "df[\"Employment Type\"].value_counts()"
      ],
      "execution_count": null,
      "outputs": [
        {
          "output_type": "execute_result",
          "data": {
            "text/plain": [
              "Private Sector/Self Employed    1155\n",
              "Government Sector                435\n",
              "Name: Employment Type, dtype: int64"
            ]
          },
          "metadata": {},
          "execution_count": 10
        }
      ]
    },
    {
      "cell_type": "code",
      "metadata": {
        "colab": {
          "base_uri": "https://localhost:8080/"
        },
        "id": "gJOJO7G7_bT7",
        "outputId": "6446a7ba-4be2-40cc-fbe0-ef0eff672b56"
      },
      "source": [
        "print(np.round(df[\"Employment Type\"].value_counts().iloc[0] / len(df) * 100, 2))"
      ],
      "execution_count": null,
      "outputs": [
        {
          "output_type": "stream",
          "name": "stdout",
          "text": [
            "72.64\n"
          ]
        }
      ]
    },
    {
      "cell_type": "markdown",
      "metadata": {
        "id": "r-gw4a9RVYO6"
      },
      "source": [
        "#**Q5**\n",
        "چند درصد از افرادی که بیماری زمینه ای دارند خودشان را بیمه میکنند؟"
      ]
    },
    {
      "cell_type": "code",
      "metadata": {
        "colab": {
          "base_uri": "https://localhost:8080/"
        },
        "id": "VzH7glJVVaMg",
        "outputId": "25baca52-550f-46aa-871e-f46bc8d26bbb"
      },
      "source": [
        "print(np.round(len(df[(df['ChronicDiseases'] == 1) & (df['TravelInsurance'] == 'Yes')]) / len(df[df['ChronicDiseases'] == 1]) * 100, 2))"
      ],
      "execution_count": null,
      "outputs": [
        {
          "output_type": "stream",
          "name": "stdout",
          "text": [
            "37.53\n"
          ]
        }
      ]
    }
  ]
}