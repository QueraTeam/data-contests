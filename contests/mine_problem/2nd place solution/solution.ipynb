{
 "cells": [
  {
   "cell_type": "markdown",
   "metadata": {
    "id": "4EV8PVtNBD4M"
   },
   "source": [
    "## 1. Prepare Data and Create Datasets"
   ]
  },
  {
   "cell_type": "code",
   "execution_count": 1,
   "metadata": {
    "id": "x88hmqjQA_Ab"
   },
   "outputs": [
    {
     "name": "stderr",
     "output_type": "stream",
     "text": [
      "'gdown' is not recognized as an internal or external command,\n",
      "operable program or batch file.\n",
      "'unzip' is not recognized as an internal or external command,\n",
      "operable program or batch file.\n"
     ]
    }
   ],
   "source": [
    "!gdown --id 19p3qtGNlc_p12bi3wnbXtELUAR7CE6p8\n",
    "!unzip data.zip"
   ]
  },
  {
   "cell_type": "code",
   "execution_count": null,
   "metadata": {
    "id": "VoGA6VTYBSeT"
   },
   "outputs": [],
   "source": [
    "import os\n",
    "import numpy as np\n",
    "import pandas as pd\n",
    "import matplotlib.pyplot as plt\n",
    "from PIL import Image, ImageDraw, ImageFont\n",
    "import torch"
   ]
  },
  {
   "cell_type": "code",
   "execution_count": null,
   "metadata": {
    "id": "rwaSRomhBUZA"
   },
   "outputs": [],
   "source": [
    "exceptions = [f\"M3-BH13250-{i+25}.jpg\" for i in range(9)]\n",
    "labels = pd.read_excel(\"/content/label.xlsx\")\n",
    "labels = labels.set_index(\"image_name\")"
   ]
  },
  {
   "cell_type": "code",
   "execution_count": null,
   "metadata": {
    "id": "WyY3gCd9BWUa"
   },
   "outputs": [],
   "source": [
    "def get_intersect(r1, r2):\n",
    "        left = max(r1[0], r2[0])\n",
    "        right = min(r1[1], r2[1])\n",
    "        if left>right:\n",
    "            return None\n",
    "        return (left,right)"
   ]
  },
  {
   "cell_type": "code",
   "execution_count": null,
   "metadata": {
    "id": "aWene4GWBZPz"
   },
   "outputs": [],
   "source": [
    "allImages = os.listdir(\"/content/train\")\n",
    "iA = np.array(allImages)\n",
    "indices = torch.randperm(len(allImages)).tolist()\n",
    "trainImgs = iA[indices[:-10]]\n",
    "valImgs = iA[indices[-10:]]"
   ]
  },
  {
   "cell_type": "code",
   "execution_count": null,
   "metadata": {
    "id": "-9WKu_c9Bfru"
   },
   "outputs": [],
   "source": [
    "def processImage(image, tags, imageIdStarter=0, annotStarter=0, chunksNum=5, draw=False):\n",
    "    w, h = image.size\n",
    "    box = image.crop((0, h/2, w, h))\n",
    "    tags = tags.copy()\n",
    "    tags.loc[:, \"ymin\"] = tags[\"ymin\"].apply(lambda x: x - h/2)\n",
    "    chunks = []\n",
    "    annots = []\n",
    "    bw, bh = box.size\n",
    "    c = annotStarter\n",
    "    for i in range(chunksNum):\n",
    "        coverage = (i * bh / chunksNum, (i+1) * bh / chunksNum)\n",
    "        localAnnots = []\n",
    "        for j in range(len(tags)):\n",
    "            obj = tags.iloc[j]\n",
    "            s = get_intersect((obj.ymin, obj.ymin + obj.height), coverage)\n",
    "            if s is None or ((s[1] - s[0])/(coverage[1] - coverage[0])) < 0.3:\n",
    "                continue\n",
    "            ymax = obj.ymin + obj.height\n",
    "            h = obj.height\n",
    "            if ymax > coverage[1]:\n",
    "                h -= (ymax - coverage[1])\n",
    "            localAnnots.append({\n",
    "                \"id\": c,\n",
    "                \"area\": obj.width * h,\n",
    "                \"image_id\": imageIdStarter + i,\n",
    "                \"iscrowd\": 0,\n",
    "                \"bbox\": [obj.xmin, obj.ymin - coverage[0], obj.width, h],\n",
    "                \"category_id\": 1 if obj.label_name == \"wood\" else 2\n",
    "            })\n",
    "            c += 1\n",
    "        annots += localAnnots\n",
    "        r = box.crop((0, coverage[0], bw, coverage[1]))\n",
    "        if draw:\n",
    "            drawer = ImageDraw.Draw(r)\n",
    "            for a in localAnnots:\n",
    "                bb = a[\"bbox\"]\n",
    "                drawer.rectangle((bb[0], bb[1], bb[0] + bb[2], bb[1] + bb[3]), outline=\"white\", width=10)\n",
    "        chunks.append(r)\n",
    "    imChunks = [{\n",
    "        \"file_name\": str(imageIdStarter + idx) + \".jpg\",\n",
    "        \"height\": im.size[1],\n",
    "        \"width\": im.size[0],\n",
    "        \"id\": imageIdStarter + idx,\n",
    "    } for idx, im in enumerate(chunks)]\n",
    "    return imChunks, chunks, annots"
   ]
  },
  {
   "cell_type": "code",
   "execution_count": null,
   "metadata": {
    "id": "YHnQzRTYBh01"
   },
   "outputs": [],
   "source": [
    "from tqdm import tqdm"
   ]
  },
  {
   "cell_type": "code",
   "execution_count": null,
   "metadata": {
    "id": "yhPe4KXTByw9"
   },
   "outputs": [],
   "source": [
    "import json\n",
    "\n",
    "def np_encoder(object):\n",
    "    if isinstance(object, np.generic):\n",
    "        return object.item()"
   ]
  },
  {
   "cell_type": "code",
   "execution_count": null,
   "metadata": {
    "id": "SkmSXCesCyUk"
   },
   "outputs": [],
   "source": [
    "aS = 1\n",
    "iS = 1"
   ]
  },
  {
   "cell_type": "code",
   "execution_count": null,
   "metadata": {
    "id": "ADW7QiiXBlme"
   },
   "outputs": [],
   "source": [
    "def procDataset(files, dest, annotDest):\n",
    "    dataset = {\n",
    "        \"images\": [],\n",
    "        \"annotations\": [],\n",
    "        \"categories\": [{\"id\": 1, \"name\": \"wood\"}, {\"id\": 2, \"name\": \"+10cm rock\"}]\n",
    "    }\n",
    "    global aS\n",
    "    global iS\n",
    "    for i in tqdm(range(len(files))):\n",
    "        iN = files[i]\n",
    "        if iN in exceptions:\n",
    "            N = 6\n",
    "        else:\n",
    "            N = 5\n",
    "        img = Image.open(\"/content/train/\" + iN)\n",
    "        tags = labels.loc[iN].copy()\n",
    "        iChunks, chunks, annots = processImage(img, tags, imageIdStarter=iS, annotStarter=aS, draw=False, chunksNum=N)\n",
    "        dataset[\"images\"] += iChunks\n",
    "        dataset[\"annotations\"] += annots\n",
    "        iS += len(iChunks)\n",
    "        aS += len(annots)\n",
    "        for meta, chunk in zip(iChunks, chunks):\n",
    "            n_ = meta[\"file_name\"]\n",
    "            chunk.save(f\"{dest}/{n_}\")\n",
    "    f = open(annotDest, \"w\")\n",
    "    json.dump(dataset, f, default=np_encoder)\n",
    "    f.close()"
   ]
  },
  {
   "cell_type": "code",
   "execution_count": null,
   "metadata": {
    "id": "r21l_lRgCZXP"
   },
   "outputs": [],
   "source": [
    "# !rm -rf borehole\n",
    "!mkdir -p /content/borehole/train\n",
    "!mkdir -p /content/borehole/val"
   ]
  },
  {
   "cell_type": "code",
   "execution_count": null,
   "metadata": {
    "colab": {
     "base_uri": "https://localhost:8080/"
    },
    "id": "soUBC_5yCNY0",
    "outputId": "830aa9d4-306d-45d5-a913-3d3e0c2c6061"
   },
   "outputs": [
    {
     "name": "stderr",
     "output_type": "stream",
     "text": [
      "100%|██████████| 146/146 [01:25<00:00,  1.70it/s]\n",
      "100%|██████████| 10/10 [00:06<00:00,  1.64it/s]\n"
     ]
    }
   ],
   "source": [
    "procDataset(trainImgs, \"/content/borehole/train\", \"/content/borehole/train-annotation.json\")\n",
    "procDataset(valImgs, \"/content/borehole/val\", \"/content/borehole/val-annotation.json\")"
   ]
  },
  {
   "cell_type": "markdown",
   "metadata": {
    "id": "gq0szTkmD0qg"
   },
   "source": [
    "## 2. Training Swin Transformer"
   ]
  },
  {
   "cell_type": "code",
   "execution_count": null,
   "metadata": {
    "id": "fqFxt9GSD0WQ"
   },
   "outputs": [],
   "source": [
    "!pip install openmim\n",
    "!mim install mmdet\n",
    "!git clone https://github.com/AminRezaei0x443/Swin-Transformer-Object-Detection"
   ]
  },
  {
   "cell_type": "code",
   "execution_count": null,
   "metadata": {
    "colab": {
     "base_uri": "https://localhost:8080/"
    },
    "id": "AIWyK5H3EN5v",
    "outputId": "3c4c293b-6f97-42de-f2cb-b4f696539ad3"
   },
   "outputs": [
    {
     "name": "stdout",
     "output_type": "stream",
     "text": [
      "/content/Swin-Transformer-Object-Detection\n"
     ]
    }
   ],
   "source": [
    "%cd Swin-Transformer-Object-Detection/"
   ]
  },
  {
   "cell_type": "code",
   "execution_count": null,
   "metadata": {
    "id": "rbZ-IbvwD9VZ"
   },
   "outputs": [],
   "source": [
    "!pip uninstall mmdet\n",
    "!python3 setup.py develop"
   ]
  },
  {
   "cell_type": "code",
   "execution_count": null,
   "metadata": {
    "id": "3FywRYmFEAWD"
   },
   "outputs": [],
   "source": [
    "!pip uninstall pycocotools\n",
    "!pip install mmpycocotools"
   ]
  },
  {
   "cell_type": "code",
   "execution_count": null,
   "metadata": {
    "id": "ImbBAOg3QeYR"
   },
   "outputs": [],
   "source": [
    "!rm -rf /content/Swin-Transformer-Object-Detection/work_dirs/cascade_rcnn_borhole_b"
   ]
  },
  {
   "cell_type": "code",
   "execution_count": null,
   "metadata": {
    "colab": {
     "base_uri": "https://localhost:8080/"
    },
    "id": "pSpTh3K8ESsE",
    "outputId": "cb3cd02c-6199-41df-d477-3f7929ec4005"
   },
   "outputs": [],
   "source": [
    "!tools/dist_train.sh configs/swin/cascade_rcnn_borhole_b.py 1 --cfg-options model.backbone.use_checkpoint=True"
   ]
  },
  {
   "cell_type": "code",
   "execution_count": null,
   "metadata": {
    "id": "TEU4SfUnc7A6"
   },
   "outputs": [],
   "source": [
    "# Save Checkpoints if needed (with best epoch regarding MAP)\n",
    "!mkdir /content/drive/MyDrive/swin-unidro-x-2\n",
    "!cp /content/Swin-Transformer-Object-Detection/work_dirs/cascade_rcnn_borhole_b/20210823_115322.log /content/drive/MyDrive/swin-unidro-x-2/\n",
    "!cp /content/Swin-Transformer-Object-Detection/work_dirs/cascade_rcnn_borhole_b/20210823_115322.log.json /content/drive/MyDrive/swin-unidro-x-2/\n",
    "!cp /content/Swin-Transformer-Object-Detection/work_dirs/cascade_rcnn_borhole_b/epoch_8.pth /content/drive/MyDrive/swin-unidro-x-2/\n",
    "!cp /content/Swin-Transformer-Object-Detection/work_dirs/cascade_rcnn_borhole_b/epoch_9.pth /content/drive/MyDrive/swin-unidro-x-2/"
   ]
  },
  {
   "cell_type": "markdown",
   "metadata": {
    "id": "9miEuyH4lpvX"
   },
   "source": [
    "## 3. Prepare Testset"
   ]
  },
  {
   "cell_type": "code",
   "execution_count": null,
   "metadata": {
    "id": "UiOoaLYPkgWO"
   },
   "outputs": [],
   "source": [
    "testImages = os.listdir(\"test-rqd\")"
   ]
  },
  {
   "cell_type": "code",
   "execution_count": null,
   "metadata": {
    "id": "dz1DsKXGprZK"
   },
   "outputs": [],
   "source": [
    "def processImageTest(name, image, imageIdStarter=0, chunksNum=5):\n",
    "    w, h = image.size\n",
    "    box = image.crop((0, h/2, w, h))\n",
    "    chunks = []\n",
    "    bw, bh = box.size\n",
    "    for i in range(chunksNum):\n",
    "        coverage = (i * bh / chunksNum, (i+1) * bh / chunksNum)\n",
    "        r = box.crop((0, coverage[0], bw, coverage[1]))\n",
    "        chunks.append(r)\n",
    "    imChunks = [{\n",
    "        \"file_name\": f\"{name}-{idx}.jpg\",\n",
    "        \"height\": im.size[1],\n",
    "        \"width\": im.size[0],\n",
    "        \"id\": imageIdStarter + idx,\n",
    "    } for idx, im in enumerate(chunks)]\n",
    "    return imChunks, chunks"
   ]
  },
  {
   "cell_type": "code",
   "execution_count": null,
   "metadata": {
    "id": "MuHFD-5LqgxW"
   },
   "outputs": [],
   "source": [
    "iS = 1"
   ]
  },
  {
   "cell_type": "code",
   "execution_count": null,
   "metadata": {
    "id": "0uxByM1fqaIQ"
   },
   "outputs": [],
   "source": [
    "def procDataset(files, dest, annotDest):\n",
    "    dataset = {\n",
    "        \"images\": [],\n",
    "        \"annotations\": [],\n",
    "        \"categories\": [{\"id\": 1, \"name\": \"wood\"}, {\"id\": 2, \"name\": \"+10cm rock\"}]\n",
    "    }\n",
    "    global iS\n",
    "    for i in tqdm(range(len(files))):\n",
    "        iN = files[i]\n",
    "        N = 5\n",
    "        img = Image.open(\"/content/test-rqd/\" + iN)\n",
    "        iChunks, chunks = processImageTest(iN.replace(\".jpg\", \"\").replace(\".JPG\", \"\"), img, imageIdStarter=iS, chunksNum=N)\n",
    "        dataset[\"images\"] += iChunks\n",
    "        iS += len(iChunks)\n",
    "        for meta, chunk in zip(iChunks, chunks):\n",
    "            n_ = meta[\"file_name\"]\n",
    "            chunk.save(f\"{dest}/{n_}\")\n",
    "    f = open(annotDest, \"w\")\n",
    "    json.dump(dataset, f, default=np_encoder)\n",
    "    f.close()"
   ]
  },
  {
   "cell_type": "code",
   "execution_count": null,
   "metadata": {
    "id": "VQw5g67irAA7"
   },
   "outputs": [],
   "source": [
    "!rm -rf borehole/test\n",
    "!mkdir -p borehole/test"
   ]
  },
  {
   "cell_type": "code",
   "execution_count": null,
   "metadata": {
    "colab": {
     "base_uri": "https://localhost:8080/"
    },
    "id": "apsazYD8q9Em",
    "outputId": "c98bed91-2639-4f7c-cad3-7f7fb77daac1"
   },
   "outputs": [],
   "source": [
    "procDataset(testImages, \"/content/borehole/test\", \"/content/borehole/test-annotation.json\")"
   ]
  },
  {
   "cell_type": "code",
   "execution_count": null,
   "metadata": {
    "colab": {
     "base_uri": "https://localhost:8080/"
    },
    "id": "NN9T3WL5rYA2",
    "outputId": "ba160f64-a9a7-4d97-9628-1a002b908842"
   },
   "outputs": [],
   "source": [
    "!python tools/test.py configs/swin/cascade_rcnn_borhole_b.py /content/Swin-Transformer-Object-Detection/work_dirs/cascade_rcnn_borhole_b/epoch_9.pth --out res-X-9-2.pkl"
   ]
  },
  {
   "cell_type": "markdown",
   "metadata": {},
   "source": [
    "## 4. Calculate RQD"
   ]
  },
  {
   "cell_type": "code",
   "execution_count": null,
   "metadata": {},
   "outputs": [],
   "source": [
    "import os\n",
    "import numpy as np\n",
    "import pandas as pd\n",
    "import matplotlib.pyplot as plt\n",
    "from PIL import Image, ImageDraw, ImageFont\n",
    "import torch"
   ]
  },
  {
   "cell_type": "code",
   "execution_count": null,
   "metadata": {},
   "outputs": [],
   "source": [
    "def rqd(f):\n",
    "    if f >= 0 and f <= 25:\n",
    "        return 1\n",
    "    elif f > 25 and f <= 50:\n",
    "        return 2\n",
    "    elif f > 50 and f <= 75:\n",
    "        return 3\n",
    "    elif f > 75 and f <= 90:\n",
    "        return 4\n",
    "    return 5"
   ]
  },
  {
   "cell_type": "code",
   "execution_count": null,
   "metadata": {},
   "outputs": [],
   "source": [
    "import json\n",
    "\n",
    "tI = json.load(open(\"/content/borehole/test-annotation.json\", \"r\"))\n",
    "idMap = {}\n",
    "for d in tI[\"images\"]:\n",
    "    idMap[d[\"id\"]] = d[\"file_name\"]"
   ]
  },
  {
   "cell_type": "code",
   "execution_count": null,
   "metadata": {},
   "outputs": [],
   "source": [
    "frqd = pd.read_excel(\"from-to-rqd.xlsx\")\n",
    "frqd[\"h\"] = frqd[\"to\"] - frqd[\"from\"]\n",
    "idf = frqd.set_index(\"RunId\")"
   ]
  },
  {
   "cell_type": "code",
   "execution_count": null,
   "metadata": {},
   "outputs": [],
   "source": [
    "import pickle\n",
    "\n",
    "objects = []\n",
    "with (open(\"res-X-8-2.pkl\", \"rb\")) as openfile:\n",
    "    while True:\n",
    "        try:\n",
    "            objects.append(pickle.load(openfile))\n",
    "        except EOFError:\n",
    "            break"
   ]
  },
  {
   "cell_type": "code",
   "execution_count": null,
   "metadata": {},
   "outputs": [],
   "source": [
    "def area(t):\n",
    "    a, b, c, d = t\n",
    "    return (c-a)*(d-b)\n",
    "\n",
    "def coveringRect(rects):\n",
    "    return (min(r[0] for r in rects),\n",
    "            min(r[1] for r in rects),\n",
    "            max(r[2] for r in rects),\n",
    "            max(r[3] for r in rects))\n",
    "\n",
    "def clip(bb, rects):\n",
    "    if not rects:\n",
    "        return []\n",
    "    (x1, y1, x2, y2) = rects[0]\n",
    "    rs = rects[1:]\n",
    "    (a1, b1, a2, b2) = bb\n",
    "    if a1 == a2 or b1 == b2:\n",
    "        return []\n",
    "    if a1 >= x2 or a2 <= x1 or y1 >= b2 or y2 <= b1:\n",
    "        return clip(bb, rs)\n",
    "    return [(max(a1, x1), max(b1, y1), min(a2, x2), min(b2, y2))] + clip(bb, rs)\n",
    "\n",
    "def calc(cr, rects):\n",
    "    if not rects:\n",
    "        return 0\n",
    "    rc = rects[0]\n",
    "    rs = rects[1:]\n",
    "    x1, y1, x2, y2 = cr\n",
    "    l1, m1, l2, m2 = rc\n",
    "    t = (x1, m2, x2, y2)\n",
    "    b = (x1, y1, x2, m1)\n",
    "    l = (x1, m1, l1, m2)\n",
    "    r = (l2, m1, x2, m2)\n",
    "    return area(rc) + sum(calc(x, clip(x, rs)) for x in [t, b, l, r])\n",
    "\n",
    "def overlapArea(rects):\n",
    "    if len(rects) == 0:\n",
    "        return 0\n",
    "    return calc(coveringRect(rects), rects)"
   ]
  },
  {
   "cell_type": "code",
   "execution_count": null,
   "metadata": {},
   "outputs": [],
   "source": [
    "rdf = []\n",
    "for i in range(48):\n",
    "    iN = \"-\".join(idMap[i * 5 + 1].split(\"-\")[:3]) + \".jpg\"\n",
    "    allBoxes = []\n",
    "    w = 0\n",
    "    for j in range(5):\n",
    "        imN = idMap[i * 5 + j + 1]\n",
    "        img = Image.open(\"/content/borehole/test/\" + imN).convert(\"RGB\")\n",
    "        w = img.size[0]\n",
    "        h = img.size[1]\n",
    "        mr = objects[0][i*5 + j]\n",
    "        boxes = []\n",
    "        labels = []\n",
    "        for rbox in mr[0]:\n",
    "            if rbox[-1] > 0.9:\n",
    "                boxes.append(rbox[:4])\n",
    "                labels.append(1)\n",
    "        for rbox in mr[1]:\n",
    "            if rbox[-1] > 0.1:\n",
    "                boxes.append(rbox[:4])\n",
    "                labels.append(2)\n",
    "        box_centers = []\n",
    "        for b,l in zip(boxes,labels):\n",
    "            box_centers.append({\n",
    "                \"x\": (b[0] + b[2])/2,\n",
    "                \"y\": (b[1] + b[3])/2,\n",
    "                \"box\": b.tolist(),\n",
    "                \"cls\": l,\n",
    "                \"w\": b[2] - b[0],\n",
    "                \"h\": b[3] - b[1],\n",
    "            })\n",
    "        for b in box_centers:\n",
    "            b[\"box\"][1] += j * h \n",
    "            b[\"box\"][3] += j * h \n",
    "            b[\"range\"] = (b[\"box\"][1], b[\"box\"][3])\n",
    "        allBoxes += sorted(box_centers, key=lambda t: t[\"box\"][0])\n",
    "    pixelM = 110 / w\n",
    "    cmPix = 1 / pixelM\n",
    "\n",
    "    run = 1\n",
    "    prevB = None\n",
    "    len10 = 0\n",
    "    lx = []\n",
    "    lxW = []\n",
    "    hM = []\n",
    "    rec = []\n",
    "    for d in allBoxes:\n",
    "        if d[\"cls\"] == 2 and d[\"w\"] > (cmPix * 9.9) and d[\"h\"] > (0 * w):\n",
    "            len10 += d[\"w\"]\n",
    "            lx.append(d[\"box\"])\n",
    "            lxW.append((d[\"box\"][0], d[\"box\"][2]))\n",
    "            hM.append(d[\"box\"][3] - d[\"box\"][1])\n",
    "            prevB = d\n",
    "        if d[\"cls\"] == 1:\n",
    "            prevB = d\n",
    "            if len(hM) == 0:\n",
    "                hM.append(1)\n",
    "            rec.append({\n",
    "                \"run\": run,\n",
    "                \"len\": (overlapArea(lx) / np.mean(hM)) * pixelM / 100,\n",
    "            })\n",
    "            len10 = 0\n",
    "            lx = []\n",
    "            lxW = []\n",
    "            hM = []\n",
    "            run += 1\n",
    "    if prevB is not None and prevB[\"cls\"] == 2 and prevB[\"w\"] > (cmPix * 9.9) and prevB[\"h\"] > (0 * w):\n",
    "        if len(hM) == 0:\n",
    "            hM.append(1)\n",
    "        rec.append({\n",
    "            \"run\": run,\n",
    "            \"len\": (overlapArea(lx) / np.mean(hM)) * pixelM / 100,\n",
    "        })\n",
    "    xN = iN.replace(\".jpg\", \"\")\n",
    "    for run in rec:\n",
    "        rId = xN + \"-\" + str(run[\"run\"])\n",
    "        try:\n",
    "            hx = idf.loc[rId].h\n",
    "            rdf.append({\n",
    "                \"RunId\": rId,\n",
    "                \"Rqd\": run[\"len\"] * 100 / hx,\n",
    "                \"Prediction\": rqd(run[\"len\"] * 100 / hx)\n",
    "            })\n",
    "        except:\n",
    "            print(\"not found index : \", rId)"
   ]
  },
  {
   "cell_type": "code",
   "execution_count": null,
   "metadata": {},
   "outputs": [],
   "source": [
    "rdfx = pd.DataFrame(rdf, columns=[\"RunId\", \"Prediction\", \"Rqd\"])\n",
    "for x in set.difference(set(frqd.RunId.unique()), rdfx.RunId.unique().tolist()):\n",
    "    rdfx = rdfx.append({\n",
    "        \"RunId\": x,\n",
    "        \"Prediction\": 1\n",
    "    }, ignore_index=True)"
   ]
  },
  {
   "cell_type": "code",
   "execution_count": null,
   "metadata": {},
   "outputs": [],
   "source": [
    "rdfx[[\"RunId\", \"Prediction\"]].to_csv(\"result.csv\", index=False)"
   ]
  }
 ],
 "metadata": {
  "accelerator": "GPU",
  "colab": {
   "collapsed_sections": [],
   "name": "Unidro-N-Swin.ipynb",
   "provenance": []
  },
  "kernelspec": {
   "display_name": "Python 3",
   "language": "python",
   "name": "python3"
  },
  "language_info": {
   "codemirror_mode": {
    "name": "ipython",
    "version": 3
   },
   "file_extension": ".py",
   "mimetype": "text/x-python",
   "name": "python",
   "nbconvert_exporter": "python",
   "pygments_lexer": "ipython3",
   "version": "3.8.3"
  }
 },
 "nbformat": 4,
 "nbformat_minor": 2
}
