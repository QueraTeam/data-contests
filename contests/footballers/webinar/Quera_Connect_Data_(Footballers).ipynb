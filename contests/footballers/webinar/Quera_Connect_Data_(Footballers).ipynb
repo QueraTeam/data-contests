{
  "nbformat": 4,
  "nbformat_minor": 0,
  "metadata": {
    "colab": {
      "name": "Quera-Connect: Data (Footballers).ipynb",
      "provenance": [],
      "collapsed_sections": []
    },
    "kernelspec": {
      "display_name": "Python 3",
      "language": "python",
      "name": "python3"
    },
    "language_info": {
      "codemirror_mode": {
        "name": "ipython",
        "version": 3
      },
      "file_extension": ".py",
      "mimetype": "text/x-python",
      "name": "python",
      "nbconvert_exporter": "python",
      "pygments_lexer": "ipython3",
      "version": "3.8.5"
    },
    "widgets": {
      "application/vnd.jupyter.widget-state+json": {
        "b635cd134cea4c0f871b697da1b00b5d": {
          "model_module": "@jupyter-widgets/controls",
          "model_name": "HBoxModel",
          "state": {
            "_view_name": "HBoxView",
            "_dom_classes": [],
            "_model_name": "HBoxModel",
            "_view_module": "@jupyter-widgets/controls",
            "_model_module_version": "1.5.0",
            "_view_count": null,
            "_view_module_version": "1.5.0",
            "box_style": "",
            "layout": "IPY_MODEL_01259a6093574f689cae92a507125816",
            "_model_module": "@jupyter-widgets/controls",
            "children": [
              "IPY_MODEL_919ba8037bbe4334895c7bab11b57a12",
              "IPY_MODEL_d92abd9acb624092b90ec6f9bc1a96d2"
            ]
          }
        },
        "01259a6093574f689cae92a507125816": {
          "model_module": "@jupyter-widgets/base",
          "model_name": "LayoutModel",
          "state": {
            "_view_name": "LayoutView",
            "grid_template_rows": null,
            "right": null,
            "justify_content": null,
            "_view_module": "@jupyter-widgets/base",
            "overflow": null,
            "_model_module_version": "1.2.0",
            "_view_count": null,
            "flex_flow": null,
            "width": null,
            "min_width": null,
            "border": null,
            "align_items": null,
            "bottom": null,
            "_model_module": "@jupyter-widgets/base",
            "top": null,
            "grid_column": null,
            "overflow_y": null,
            "overflow_x": null,
            "grid_auto_flow": null,
            "grid_area": null,
            "grid_template_columns": null,
            "flex": null,
            "_model_name": "LayoutModel",
            "justify_items": null,
            "grid_row": null,
            "max_height": null,
            "align_content": null,
            "visibility": null,
            "align_self": null,
            "height": null,
            "min_height": null,
            "padding": null,
            "grid_auto_rows": null,
            "grid_gap": null,
            "max_width": null,
            "order": null,
            "_view_module_version": "1.2.0",
            "grid_template_areas": null,
            "object_position": null,
            "object_fit": null,
            "grid_auto_columns": null,
            "margin": null,
            "display": null,
            "left": null
          }
        },
        "919ba8037bbe4334895c7bab11b57a12": {
          "model_module": "@jupyter-widgets/controls",
          "model_name": "FloatProgressModel",
          "state": {
            "_view_name": "ProgressView",
            "style": "IPY_MODEL_bf3668469c9f426ab0ee17ccac902da6",
            "_dom_classes": [],
            "description": "100%",
            "_model_name": "FloatProgressModel",
            "bar_style": "success",
            "max": 5,
            "_view_module": "@jupyter-widgets/controls",
            "_model_module_version": "1.5.0",
            "value": 5,
            "_view_count": null,
            "_view_module_version": "1.5.0",
            "orientation": "horizontal",
            "min": 0,
            "description_tooltip": null,
            "_model_module": "@jupyter-widgets/controls",
            "layout": "IPY_MODEL_f910f15056184144b365f50de00f809b"
          }
        },
        "d92abd9acb624092b90ec6f9bc1a96d2": {
          "model_module": "@jupyter-widgets/controls",
          "model_name": "HTMLModel",
          "state": {
            "_view_name": "HTMLView",
            "style": "IPY_MODEL_bf234104a69849fe9e748b835df6abe2",
            "_dom_classes": [],
            "description": "",
            "_model_name": "HTMLModel",
            "placeholder": "​",
            "_view_module": "@jupyter-widgets/controls",
            "_model_module_version": "1.5.0",
            "value": " 5/5 [06:06&lt;00:00, 73.39s/it]",
            "_view_count": null,
            "_view_module_version": "1.5.0",
            "description_tooltip": null,
            "_model_module": "@jupyter-widgets/controls",
            "layout": "IPY_MODEL_aa291cd51fca42988c94ecac946d23c0"
          }
        },
        "bf3668469c9f426ab0ee17ccac902da6": {
          "model_module": "@jupyter-widgets/controls",
          "model_name": "ProgressStyleModel",
          "state": {
            "_view_name": "StyleView",
            "_model_name": "ProgressStyleModel",
            "description_width": "initial",
            "_view_module": "@jupyter-widgets/base",
            "_model_module_version": "1.5.0",
            "_view_count": null,
            "_view_module_version": "1.2.0",
            "bar_color": null,
            "_model_module": "@jupyter-widgets/controls"
          }
        },
        "f910f15056184144b365f50de00f809b": {
          "model_module": "@jupyter-widgets/base",
          "model_name": "LayoutModel",
          "state": {
            "_view_name": "LayoutView",
            "grid_template_rows": null,
            "right": null,
            "justify_content": null,
            "_view_module": "@jupyter-widgets/base",
            "overflow": null,
            "_model_module_version": "1.2.0",
            "_view_count": null,
            "flex_flow": null,
            "width": null,
            "min_width": null,
            "border": null,
            "align_items": null,
            "bottom": null,
            "_model_module": "@jupyter-widgets/base",
            "top": null,
            "grid_column": null,
            "overflow_y": null,
            "overflow_x": null,
            "grid_auto_flow": null,
            "grid_area": null,
            "grid_template_columns": null,
            "flex": null,
            "_model_name": "LayoutModel",
            "justify_items": null,
            "grid_row": null,
            "max_height": null,
            "align_content": null,
            "visibility": null,
            "align_self": null,
            "height": null,
            "min_height": null,
            "padding": null,
            "grid_auto_rows": null,
            "grid_gap": null,
            "max_width": null,
            "order": null,
            "_view_module_version": "1.2.0",
            "grid_template_areas": null,
            "object_position": null,
            "object_fit": null,
            "grid_auto_columns": null,
            "margin": null,
            "display": null,
            "left": null
          }
        },
        "bf234104a69849fe9e748b835df6abe2": {
          "model_module": "@jupyter-widgets/controls",
          "model_name": "DescriptionStyleModel",
          "state": {
            "_view_name": "StyleView",
            "_model_name": "DescriptionStyleModel",
            "description_width": "",
            "_view_module": "@jupyter-widgets/base",
            "_model_module_version": "1.5.0",
            "_view_count": null,
            "_view_module_version": "1.2.0",
            "_model_module": "@jupyter-widgets/controls"
          }
        },
        "aa291cd51fca42988c94ecac946d23c0": {
          "model_module": "@jupyter-widgets/base",
          "model_name": "LayoutModel",
          "state": {
            "_view_name": "LayoutView",
            "grid_template_rows": null,
            "right": null,
            "justify_content": null,
            "_view_module": "@jupyter-widgets/base",
            "overflow": null,
            "_model_module_version": "1.2.0",
            "_view_count": null,
            "flex_flow": null,
            "width": null,
            "min_width": null,
            "border": null,
            "align_items": null,
            "bottom": null,
            "_model_module": "@jupyter-widgets/base",
            "top": null,
            "grid_column": null,
            "overflow_y": null,
            "overflow_x": null,
            "grid_auto_flow": null,
            "grid_area": null,
            "grid_template_columns": null,
            "flex": null,
            "_model_name": "LayoutModel",
            "justify_items": null,
            "grid_row": null,
            "max_height": null,
            "align_content": null,
            "visibility": null,
            "align_self": null,
            "height": null,
            "min_height": null,
            "padding": null,
            "grid_auto_rows": null,
            "grid_gap": null,
            "max_width": null,
            "order": null,
            "_view_module_version": "1.2.0",
            "grid_template_areas": null,
            "object_position": null,
            "object_fit": null,
            "grid_auto_columns": null,
            "margin": null,
            "display": null,
            "left": null
          }
        }
      }
    },
    "accelerator": "GPU"
  },
  "cells": [
    {
      "cell_type": "markdown",
      "metadata": {
        "id": "dRFH97wMDeM9"
      },
      "source": [
        "<center> <h1><b>Quera-Connect: Data (Footballers)</b></h1> </center>"
      ]
    },
    {
      "cell_type": "markdown",
      "metadata": {
        "id": "gqfFFS3ZoiQw"
      },
      "source": [
        "This notebook, which uses the `scikit-learn` library in Python, was prepared to present a possible solution of the [Quera-Connect: Data (Footballers)](https://quera.ir/contest/assignments/28792/problems) contest in the post-webinar hold on May 21, 2021. One can access the recorded webinar on [here](https://www.aparat.com/v/LyM5E). \n",
        "\n",
        "For any questions regarding this notebook, you can contact us from [here](mailto:hadisotudeh1992@gmail.com).\n",
        "</br>\n",
        "</br>\n",
        "First, we need to import the relevant libraries, download the dataset, and have them available in Google Colab.\n",
        "\n",
        "P.S. It is highly recommended to enable `GPU` on this notebook for quick computations."
      ]
    },
    {
      "cell_type": "markdown",
      "metadata": {
        "id": "kfnWg1RicYz9"
      },
      "source": [
        "## **Install & import libraries and download datasets**"
      ]
    },
    {
      "cell_type": "code",
      "metadata": {
        "id": "HIKbTfGddmxQ"
      },
      "source": [
        "%%capture\n",
        "# Remove previous files\n",
        "! rm -rf sample_data\n",
        "! rm train.csv test.csv *.joblib\n",
        "! rm *.py && rm -rf sample_data && rm -rf sample-data\n",
        "\n",
        "# Download the datasets (ShotData.csv and metrica matches)\n",
        "! wget https://www.dropbox.com/s/w4n7n6gym6lvtq3/train.csv\n",
        "! wget https://www.dropbox.com/s/e99qn1mmm7q6tk8/test.csv\n",
        "! git clone https://github.com/metrica-sports/sample-data\n",
        "\n",
        "# Clone required functions to read metrica data from LaurieOnTracking repository (Friends of Tracking)\n",
        "! git clone https://github.com/Friends-of-Tracking-Data-FoTD/LaurieOnTracking\n",
        "! mv LaurieOnTracking/Metrica_IO.py ./Metrica_IO.py && mv LaurieOnTracking/Metrica_Viz.py ./Metrica_Viz.py\n",
        "! rm -rf LaurieOnTracking"
      ],
      "execution_count": null,
      "outputs": []
    },
    {
      "cell_type": "code",
      "metadata": {
        "id": "6c3DZyhUcfr6"
      },
      "source": [
        "# Import Libraries\n",
        "# General libraries\n",
        "from tqdm import tqdm_notebook as tqdm\n",
        "import matplotlib.pyplot as plt\n",
        "import pandas as pd\n",
        "import matplotlib\n",
        "import numpy as np\n",
        "import itertools\n",
        "import warnings\n",
        "import math\n",
        "import os\n",
        "\n",
        "\n",
        "# Machine learning libraries\n",
        "from sklearn.metrics import plot_roc_curve, roc_auc_score, brier_score_loss\n",
        "from sklearn.model_selection import GridSearchCV\n",
        "from sklearn.ensemble import RandomForestClassifier\n",
        "from sklearn.linear_model import LogisticRegression\n",
        "from sklearn.preprocessing import OneHotEncoder\n",
        "from sklearn.model_selection import train_test_split\n",
        "from sklearn.calibration import calibration_curve\n",
        "from sklearn.dummy import DummyClassifier\n",
        "from sklearn.pipeline import Pipeline\n",
        "from lightgbm import LGBMClassifier\n",
        "from xgboost import XGBClassifier\n",
        "import joblib\n",
        "\n",
        "# Model interpretation library\n",
        "from sklearn.inspection import plot_partial_dependence\n",
        "\n",
        "# Metrica functions\n",
        "import Metrica_IO as mio\n",
        "import Metrica_Viz as mviz"
      ],
      "execution_count": null,
      "outputs": []
    },
    {
      "cell_type": "markdown",
      "metadata": {
        "id": "FhUa2YHViI1-"
      },
      "source": [
        "## **Set Global Parameters**"
      ]
    },
    {
      "cell_type": "code",
      "metadata": {
        "id": "laPcAlQuiMgi"
      },
      "source": [
        "# Show plots inside the jupyter notebook\n",
        "%matplotlib inline\n",
        "\n",
        "# Pandas settings to show more columns are rows in the jupyter notebook\n",
        "pd.set_option('display.max_rows', 500)\n",
        "pd.set_option('display.max_columns', 50000)\n",
        "\n",
        "# Increase font size of the plots \n",
        "plt.rcParams.update({'font.size': 18})\n",
        "\n",
        "# Don't show warnings\n",
        "warnings.filterwarnings('ignore')\n",
        "\n",
        "# Datasets\n",
        "train_dataset = \"train.csv\"\n",
        "test_dataset = \"test.csv\"\n",
        "\n",
        "# Target variable to predict\n",
        "dep_var = \"outcome\"\n",
        "\n",
        "# Hyper-paramter tuning variables\n",
        "cv = 5\n",
        "seed = 42\n",
        "scoring = 'roc_auc'\n",
        "\n",
        "######### This part is copied from https://github.com/Friends-of-Tracking-Data-FoTD/LaurieOnTracking/blob/master/Tutorial1_GettingStarted.py\n",
        "# Set up initial path to data\n",
        "DATADIR = './sample-data/data/'\n",
        "game_id = 2 # let's look at sample match 2\n",
        "\n",
        "home_team = \"Home\"\n",
        "away_team =  \"Away\"\n",
        "\n",
        "pitch_x = 105.\n",
        "pitch_y = 68.\n",
        "\n",
        "meters_per_yard = 0.9144 # unit conversion from yards to meters\n",
        "goal_line_width = 8*meters_per_yard"
      ],
      "execution_count": null,
      "outputs": []
    },
    {
      "cell_type": "markdown",
      "metadata": {
        "id": "yBIJn-EwpOR3"
      },
      "source": [
        "#**Step 1 - Explore the dataset**\n"
      ]
    },
    {
      "cell_type": "code",
      "metadata": {
        "id": "AU7d-VkXpJL-",
        "colab": {
          "base_uri": "https://localhost:8080/",
          "height": 326
        },
        "outputId": "ed7bbb1c-9b7d-4a10-e73e-7e5547fbaf25"
      },
      "source": [
        "df = pd.read_csv(train_dataset)\n",
        "df.head()"
      ],
      "execution_count": null,
      "outputs": [
        {
          "output_type": "execute_result",
          "data": {
            "text/html": [
              "<div>\n",
              "<style scoped>\n",
              "    .dataframe tbody tr th:only-of-type {\n",
              "        vertical-align: middle;\n",
              "    }\n",
              "\n",
              "    .dataframe tbody tr th {\n",
              "        vertical-align: top;\n",
              "    }\n",
              "\n",
              "    .dataframe thead th {\n",
              "        text-align: right;\n",
              "    }\n",
              "</style>\n",
              "<table border=\"1\" class=\"dataframe\">\n",
              "  <thead>\n",
              "    <tr style=\"text-align: right;\">\n",
              "      <th></th>\n",
              "      <th>matchId</th>\n",
              "      <th>playerId</th>\n",
              "      <th>playType</th>\n",
              "      <th>bodyPart</th>\n",
              "      <th>x</th>\n",
              "      <th>y</th>\n",
              "      <th>interveningOpponents</th>\n",
              "      <th>interveningTeammates</th>\n",
              "      <th>interferenceOnShooter</th>\n",
              "      <th>minute</th>\n",
              "      <th>second</th>\n",
              "      <th>outcome</th>\n",
              "    </tr>\n",
              "  </thead>\n",
              "  <tbody>\n",
              "    <tr>\n",
              "      <th>0</th>\n",
              "      <td>m_91</td>\n",
              "      <td>p_103</td>\n",
              "      <td>جریان بازی</td>\n",
              "      <td>پای راست</td>\n",
              "      <td>13.47</td>\n",
              "      <td>-11.22</td>\n",
              "      <td>1</td>\n",
              "      <td>0</td>\n",
              "      <td>متوسط</td>\n",
              "      <td>70</td>\n",
              "      <td>9</td>\n",
              "      <td>گُل</td>\n",
              "    </tr>\n",
              "    <tr>\n",
              "      <th>1</th>\n",
              "      <td>m_17</td>\n",
              "      <td>p_16</td>\n",
              "      <td>جریان بازی</td>\n",
              "      <td>پای چپ</td>\n",
              "      <td>9.48</td>\n",
              "      <td>14.22</td>\n",
              "      <td>3</td>\n",
              "      <td>0</td>\n",
              "      <td>متوسط</td>\n",
              "      <td>55</td>\n",
              "      <td>4</td>\n",
              "      <td>مهار توسط دروازه بان</td>\n",
              "    </tr>\n",
              "    <tr>\n",
              "      <th>2</th>\n",
              "      <td>m_111</td>\n",
              "      <td>p_88</td>\n",
              "      <td>ضربه آزاد مستقیم</td>\n",
              "      <td>پای چپ</td>\n",
              "      <td>29.43</td>\n",
              "      <td>-1.25</td>\n",
              "      <td>6</td>\n",
              "      <td>2</td>\n",
              "      <td>کم</td>\n",
              "      <td>86</td>\n",
              "      <td>31</td>\n",
              "      <td>مهار توسط دروازه بان</td>\n",
              "    </tr>\n",
              "    <tr>\n",
              "      <th>3</th>\n",
              "      <td>m_142</td>\n",
              "      <td>p_87</td>\n",
              "      <td>جریان بازی</td>\n",
              "      <td>پای راست</td>\n",
              "      <td>26.93</td>\n",
              "      <td>1.00</td>\n",
              "      <td>4</td>\n",
              "      <td>1</td>\n",
              "      <td>متوسط</td>\n",
              "      <td>77</td>\n",
              "      <td>2</td>\n",
              "      <td>موقعیت از دست رفته</td>\n",
              "    </tr>\n",
              "    <tr>\n",
              "      <th>4</th>\n",
              "      <td>m_117</td>\n",
              "      <td>p_9</td>\n",
              "      <td>جریان بازی</td>\n",
              "      <td>پای راست</td>\n",
              "      <td>10.72</td>\n",
              "      <td>5.24</td>\n",
              "      <td>2</td>\n",
              "      <td>0</td>\n",
              "      <td>متوسط</td>\n",
              "      <td>76</td>\n",
              "      <td>46</td>\n",
              "      <td>گُل</td>\n",
              "    </tr>\n",
              "  </tbody>\n",
              "</table>\n",
              "</div>"
            ],
            "text/plain": [
              "  matchId playerId          playType  bodyPart      x      y  \\\n",
              "0    m_91    p_103        جریان بازی  پای راست  13.47 -11.22   \n",
              "1    m_17     p_16        جریان بازی    پای چپ   9.48  14.22   \n",
              "2   m_111     p_88  ضربه آزاد مستقیم    پای چپ  29.43  -1.25   \n",
              "3   m_142     p_87        جریان بازی  پای راست  26.93   1.00   \n",
              "4   m_117      p_9        جریان بازی  پای راست  10.72   5.24   \n",
              "\n",
              "   interveningOpponents  interveningTeammates interferenceOnShooter  minute  \\\n",
              "0                     1                     0                 متوسط      70   \n",
              "1                     3                     0                 متوسط      55   \n",
              "2                     6                     2                    کم      86   \n",
              "3                     4                     1                 متوسط      77   \n",
              "4                     2                     0                 متوسط      76   \n",
              "\n",
              "   second               outcome  \n",
              "0       9                   گُل  \n",
              "1       4  مهار توسط دروازه بان  \n",
              "2      31  مهار توسط دروازه بان  \n",
              "3       2    موقعیت از دست رفته  \n",
              "4      46                   گُل  "
            ]
          },
          "metadata": {
            "tags": []
          },
          "execution_count": 4
        }
      ]
    },
    {
      "cell_type": "code",
      "metadata": {
        "colab": {
          "base_uri": "https://localhost:8080/"
        },
        "id": "AkSHbPiL0ifX",
        "outputId": "bfb4d8ed-3a45-4f60-d4b5-743629bdc559"
      },
      "source": [
        "# Q1: Number of Players\n",
        "\n",
        "df.playerId.nunique()"
      ],
      "execution_count": null,
      "outputs": [
        {
          "output_type": "execute_result",
          "data": {
            "text/plain": [
              "160"
            ]
          },
          "metadata": {
            "tags": []
          },
          "execution_count": 5
        }
      ]
    },
    {
      "cell_type": "code",
      "metadata": {
        "colab": {
          "base_uri": "https://localhost:8080/"
        },
        "id": "vNUGII69baFf",
        "outputId": "0ffbad21-131c-4b26-a769-1b4900107550"
      },
      "source": [
        "# Q2: Top Goal Scorer\n",
        "\n",
        "df['label'] = df['outcome'].apply(lambda r: 1 if r == \"گُل\" else 0)\n",
        "df.groupby('playerId')['label'].sum().nlargest(3)"
      ],
      "execution_count": null,
      "outputs": [
        {
          "output_type": "execute_result",
          "data": {
            "text/plain": [
              "playerId\n",
              "p_18     16\n",
              "p_6      14\n",
              "p_105    12\n",
              "Name: label, dtype: int64"
            ]
          },
          "metadata": {
            "tags": []
          },
          "execution_count": 6
        }
      ]
    },
    {
      "cell_type": "code",
      "metadata": {
        "colab": {
          "base_uri": "https://localhost:8080/"
        },
        "id": "ObequUXoeTR-",
        "outputId": "baa5234e-4a8d-492e-968c-aaeace5d91f5"
      },
      "source": [
        "# Q3: Goal Scoring Rate\n",
        "\n",
        "df.groupby(['playerId'])['label'].mean().nlargest(3)"
      ],
      "execution_count": null,
      "outputs": [
        {
          "output_type": "execute_result",
          "data": {
            "text/plain": [
              "playerId\n",
              "p_18    0.253968\n",
              "p_44    0.224490\n",
              "p_6     0.218750\n",
              "Name: label, dtype: float64"
            ]
          },
          "metadata": {
            "tags": []
          },
          "execution_count": 7
        }
      ]
    },
    {
      "cell_type": "code",
      "metadata": {
        "colab": {
          "base_uri": "https://localhost:8080/"
        },
        "id": "8uQntxY7gSHD",
        "outputId": "3456d4c7-e87d-42cd-d056-20117ac759a6"
      },
      "source": [
        "df.groupby(['playerId'])['label'].mean().nsmallest(3)"
      ],
      "execution_count": null,
      "outputs": [
        {
          "output_type": "execute_result",
          "data": {
            "text/plain": [
              "playerId\n",
              "p_147    0.028986\n",
              "p_141    0.033333\n",
              "p_151    0.037037\n",
              "Name: label, dtype: float64"
            ]
          },
          "metadata": {
            "tags": []
          },
          "execution_count": 8
        }
      ]
    },
    {
      "cell_type": "code",
      "metadata": {
        "colab": {
          "base_uri": "https://localhost:8080/",
          "height": 204
        },
        "id": "RcS1IahJfMKY",
        "outputId": "1ed0a56e-6b3a-437d-d13b-8cb571d7b247"
      },
      "source": [
        "# Q4: Maximum Distance\n",
        "\n",
        "df['distance'] = df.apply(lambda r: int(math.sqrt(r.x**2 + r.y**2)) , axis=1)\n",
        "df.sort_values(by=['distance'],ascending=False).head()[['playerId','distance']]"
      ],
      "execution_count": null,
      "outputs": [
        {
          "output_type": "execute_result",
          "data": {
            "text/html": [
              "<div>\n",
              "<style scoped>\n",
              "    .dataframe tbody tr th:only-of-type {\n",
              "        vertical-align: middle;\n",
              "    }\n",
              "\n",
              "    .dataframe tbody tr th {\n",
              "        vertical-align: top;\n",
              "    }\n",
              "\n",
              "    .dataframe thead th {\n",
              "        text-align: right;\n",
              "    }\n",
              "</style>\n",
              "<table border=\"1\" class=\"dataframe\">\n",
              "  <thead>\n",
              "    <tr style=\"text-align: right;\">\n",
              "      <th></th>\n",
              "      <th>playerId</th>\n",
              "      <th>distance</th>\n",
              "    </tr>\n",
              "  </thead>\n",
              "  <tbody>\n",
              "    <tr>\n",
              "      <th>7013</th>\n",
              "      <td>p_30</td>\n",
              "      <td>71</td>\n",
              "    </tr>\n",
              "    <tr>\n",
              "      <th>4432</th>\n",
              "      <td>p_99</td>\n",
              "      <td>64</td>\n",
              "    </tr>\n",
              "    <tr>\n",
              "      <th>6974</th>\n",
              "      <td>p_113</td>\n",
              "      <td>60</td>\n",
              "    </tr>\n",
              "    <tr>\n",
              "      <th>3031</th>\n",
              "      <td>p_2</td>\n",
              "      <td>59</td>\n",
              "    </tr>\n",
              "    <tr>\n",
              "      <th>1666</th>\n",
              "      <td>p_159</td>\n",
              "      <td>58</td>\n",
              "    </tr>\n",
              "  </tbody>\n",
              "</table>\n",
              "</div>"
            ],
            "text/plain": [
              "     playerId  distance\n",
              "7013     p_30        71\n",
              "4432     p_99        64\n",
              "6974    p_113        60\n",
              "3031      p_2        59\n",
              "1666    p_159        58"
            ]
          },
          "metadata": {
            "tags": []
          },
          "execution_count": 9
        }
      ]
    },
    {
      "cell_type": "markdown",
      "metadata": {
        "id": "O_UF_1q3b0Nr"
      },
      "source": [
        "#**Step 2 - Build an Expected Goal (xG) model**\n"
      ]
    },
    {
      "cell_type": "markdown",
      "metadata": {
        "id": "5SfzBxqRDeNK"
      },
      "source": [
        "## Load ShotData and Perform Data Cleaning & Feature Engineering"
      ]
    },
    {
      "cell_type": "code",
      "metadata": {
        "colab": {
          "base_uri": "https://localhost:8080/",
          "height": 360
        },
        "id": "Tsmg37-mDeNL",
        "scrolled": true,
        "outputId": "9c6a860d-1a81-46cf-c5f7-f2b5a6406095"
      },
      "source": [
        "def pre_process(df):\n",
        "  \"\"\"This function pre-processes the data to make it ready for the next steps of the pipeline\"\"\"\n",
        "\n",
        "  # Column preprocessing\n",
        "  # Binarize dep_var (goal and non-goal), binarize body type (foot and header)\n",
        "  df[\"bodyPart\"] = df[\"bodyPart\"].apply(lambda r: \"پا\" if r in [\"پای چپ\", \"پای راست\"] else r) # goal = 1 and else 0\n",
        "\n",
        "  # Calculate extra relevant features such as distance and angle\n",
        "\n",
        "  # Euclidean distance to center of the goal sqrt(x^2+y^2)\n",
        "  df[\"distance\"] = np.sqrt(df[\"x\"]**2 + df[\"y\"]**2)\n",
        "\n",
        "  # Shot angle ot the goal\n",
        "  # The angle is arctan(goal_line_width*x/(x^2+y^2-(goal_line_width*/2)^2)), which is in radius and I convert it into degrees next\n",
        "  df[\"angle\"] = np.arctan(goal_line_width*df[\"x\"]/(df[\"x\"]**2+df[\"y\"]**2-(goal_line_width/2)**2))\n",
        "  df[\"angle\"] = np.rad2deg(df[\"angle\"].apply(lambda alpha: np.pi + alpha if alpha < 0 else alpha))\n",
        "\n",
        "  # Rounding the dataframe (2 decimals)\n",
        "  df = df.round(2)\n",
        "\n",
        "  # Perform one-hot encoding without multicollinearity\n",
        "  columns_to_encode = [\"playType\",\"bodyPart\",\"interferenceOnShooter\"]\n",
        "  for col in columns_to_encode:\n",
        "    # Prevent multicollinearity\n",
        "    one_hot = pd.get_dummies(df[col], drop_first=True)\n",
        "    # Drop the column as it is now encoded\n",
        "    df = df.drop(col,axis = 1)\n",
        "    # Join the encoded df\n",
        "    df = df.join(one_hot)\n",
        "\n",
        "  # Move outcome to the last column if it exists\n",
        "  if dep_var in df.columns:\n",
        "    features = [x for x in df.columns if x not in [\"x\",\"y\",dep_var]]\n",
        "    df = df[features + [dep_var]]\n",
        "  else:\n",
        "    features = [x for x in df.columns if x not in [\"x\",\"y\"]]\n",
        "    df = df[features]\n",
        "\n",
        "  return df\n",
        "\n",
        "\n",
        "# Keep only relevant features and the label (dep_var)\n",
        "features = [\"x\",\"y\",\"playType\",\"bodyPart\",\"interveningOpponents\",\"interveningTeammates\",\"interferenceOnShooter\"]\n",
        "\n",
        "# Read the train file\n",
        "df = pd.read_csv(train_dataset).pipe(pre_process)\n",
        "\n",
        "features = df.columns.tolist()\n",
        "cols_to_remove = [\"matchId\",\"playerId\",\"minute\",\"second\",dep_var]\n",
        "for col in cols_to_remove:\n",
        "  features.remove(col)\n",
        "\n",
        "test_df = pd.read_csv(test_dataset).pipe(pre_process)\n",
        "\n",
        "df.head()"
      ],
      "execution_count": null,
      "outputs": [
        {
          "output_type": "execute_result",
          "data": {
            "text/html": [
              "<div>\n",
              "<style scoped>\n",
              "    .dataframe tbody tr th:only-of-type {\n",
              "        vertical-align: middle;\n",
              "    }\n",
              "\n",
              "    .dataframe tbody tr th {\n",
              "        vertical-align: top;\n",
              "    }\n",
              "\n",
              "    .dataframe thead th {\n",
              "        text-align: right;\n",
              "    }\n",
              "</style>\n",
              "<table border=\"1\" class=\"dataframe\">\n",
              "  <thead>\n",
              "    <tr style=\"text-align: right;\">\n",
              "      <th></th>\n",
              "      <th>matchId</th>\n",
              "      <th>playerId</th>\n",
              "      <th>interveningOpponents</th>\n",
              "      <th>interveningTeammates</th>\n",
              "      <th>minute</th>\n",
              "      <th>second</th>\n",
              "      <th>distance</th>\n",
              "      <th>angle</th>\n",
              "      <th>ضربه آزاد مستقیم</th>\n",
              "      <th>مستقیم از کرنر</th>\n",
              "      <th>پنالتی</th>\n",
              "      <th>سر</th>\n",
              "      <th>پا</th>\n",
              "      <th>متوسط</th>\n",
              "      <th>کم</th>\n",
              "      <th>outcome</th>\n",
              "    </tr>\n",
              "  </thead>\n",
              "  <tbody>\n",
              "    <tr>\n",
              "      <th>0</th>\n",
              "      <td>m_91</td>\n",
              "      <td>p_103</td>\n",
              "      <td>1</td>\n",
              "      <td>0</td>\n",
              "      <td>70</td>\n",
              "      <td>9</td>\n",
              "      <td>17.53</td>\n",
              "      <td>18.53</td>\n",
              "      <td>0</td>\n",
              "      <td>0</td>\n",
              "      <td>0</td>\n",
              "      <td>0</td>\n",
              "      <td>1</td>\n",
              "      <td>1</td>\n",
              "      <td>0</td>\n",
              "      <td>گُل</td>\n",
              "    </tr>\n",
              "    <tr>\n",
              "      <th>1</th>\n",
              "      <td>m_17</td>\n",
              "      <td>p_16</td>\n",
              "      <td>3</td>\n",
              "      <td>0</td>\n",
              "      <td>55</td>\n",
              "      <td>4</td>\n",
              "      <td>17.09</td>\n",
              "      <td>13.97</td>\n",
              "      <td>0</td>\n",
              "      <td>0</td>\n",
              "      <td>0</td>\n",
              "      <td>0</td>\n",
              "      <td>1</td>\n",
              "      <td>1</td>\n",
              "      <td>0</td>\n",
              "      <td>مهار توسط دروازه بان</td>\n",
              "    </tr>\n",
              "    <tr>\n",
              "      <th>2</th>\n",
              "      <td>m_111</td>\n",
              "      <td>p_88</td>\n",
              "      <td>6</td>\n",
              "      <td>2</td>\n",
              "      <td>86</td>\n",
              "      <td>31</td>\n",
              "      <td>29.46</td>\n",
              "      <td>14.14</td>\n",
              "      <td>1</td>\n",
              "      <td>0</td>\n",
              "      <td>0</td>\n",
              "      <td>0</td>\n",
              "      <td>1</td>\n",
              "      <td>0</td>\n",
              "      <td>1</td>\n",
              "      <td>مهار توسط دروازه بان</td>\n",
              "    </tr>\n",
              "    <tr>\n",
              "      <th>3</th>\n",
              "      <td>m_142</td>\n",
              "      <td>p_87</td>\n",
              "      <td>4</td>\n",
              "      <td>1</td>\n",
              "      <td>77</td>\n",
              "      <td>2</td>\n",
              "      <td>26.95</td>\n",
              "      <td>15.45</td>\n",
              "      <td>0</td>\n",
              "      <td>0</td>\n",
              "      <td>0</td>\n",
              "      <td>0</td>\n",
              "      <td>1</td>\n",
              "      <td>1</td>\n",
              "      <td>0</td>\n",
              "      <td>موقعیت از دست رفته</td>\n",
              "    </tr>\n",
              "    <tr>\n",
              "      <th>4</th>\n",
              "      <td>m_117</td>\n",
              "      <td>p_9</td>\n",
              "      <td>2</td>\n",
              "      <td>0</td>\n",
              "      <td>76</td>\n",
              "      <td>46</td>\n",
              "      <td>11.93</td>\n",
              "      <td>31.30</td>\n",
              "      <td>0</td>\n",
              "      <td>0</td>\n",
              "      <td>0</td>\n",
              "      <td>0</td>\n",
              "      <td>1</td>\n",
              "      <td>1</td>\n",
              "      <td>0</td>\n",
              "      <td>گُل</td>\n",
              "    </tr>\n",
              "  </tbody>\n",
              "</table>\n",
              "</div>"
            ],
            "text/plain": [
              "  matchId playerId  interveningOpponents  interveningTeammates  minute  \\\n",
              "0    m_91    p_103                     1                     0      70   \n",
              "1    m_17     p_16                     3                     0      55   \n",
              "2   m_111     p_88                     6                     2      86   \n",
              "3   m_142     p_87                     4                     1      77   \n",
              "4   m_117      p_9                     2                     0      76   \n",
              "\n",
              "   second  distance  angle  ضربه آزاد مستقیم  مستقیم از کرنر  پنالتی  سر  پا  \\\n",
              "0       9     17.53  18.53                 0               0       0   0   1   \n",
              "1       4     17.09  13.97                 0               0       0   0   1   \n",
              "2      31     29.46  14.14                 1               0       0   0   1   \n",
              "3       2     26.95  15.45                 0               0       0   0   1   \n",
              "4      46     11.93  31.30                 0               0       0   0   1   \n",
              "\n",
              "   متوسط  کم               outcome  \n",
              "0      1   0                   گُل  \n",
              "1      1   0  مهار توسط دروازه بان  \n",
              "2      0   1  مهار توسط دروازه بان  \n",
              "3      1   0    موقعیت از دست رفته  \n",
              "4      1   0                   گُل  "
            ]
          },
          "metadata": {
            "tags": []
          },
          "execution_count": 10
        }
      ]
    },
    {
      "cell_type": "markdown",
      "metadata": {
        "id": "9vZzT4vmh1F-"
      },
      "source": [
        "Check basic dataset statistics:"
      ]
    },
    {
      "cell_type": "code",
      "metadata": {
        "colab": {
          "base_uri": "https://localhost:8080/"
        },
        "id": "FrfeoLHFh0It",
        "outputId": "53f2d1e9-499d-4a67-b7e0-7291d60af11e"
      },
      "source": [
        "print(f\"There are {df.shape[0]} instances in the dataset.\")"
      ],
      "execution_count": null,
      "outputs": [
        {
          "output_type": "stream",
          "text": [
            "Is there any empty values in the dataset? No\n",
            "\n",
            "There are 8925 instances in the dataset.\n"
          ],
          "name": "stdout"
        }
      ]
    },
    {
      "cell_type": "markdown",
      "metadata": {
        "id": "ZT28w-qCM6tl"
      },
      "source": [
        "Binarize outcome (goals vs. non-goals) and name it `goal`(0 or 1) and print the binarized distribution."
      ]
    },
    {
      "cell_type": "code",
      "metadata": {
        "id": "zjFsz6rkE1LG",
        "colab": {
          "base_uri": "https://localhost:8080/"
        },
        "outputId": "7dd674f9-c148-4566-a7a5-618bac67ec8e"
      },
      "source": [
        "df[\"outcome\"] = df[\"outcome\"].apply(lambda r: 1 if r in [\"گُل\", \"گُل به خودی\"] else 0) # goal = 1 and else 0\n",
        "\n",
        "# Change column name from outcome to isGoal\n",
        "dep_var = \"isGoal\"\n",
        "df = df.rename(columns={\"outcome\": dep_var})\n",
        "\n",
        "distributions = df[dep_var].value_counts(normalize=True)\n",
        "print(f\"Non-Goal percentage is {round(100*distributions[0],2)}% and the Goal percentage is {round(100*distributions[1],2)}%\")"
      ],
      "execution_count": null,
      "outputs": [
        {
          "output_type": "stream",
          "text": [
            "Non-Goal percentage is 87.51% and the Goal percentage is 12.49%\n"
          ],
          "name": "stdout"
        }
      ]
    },
    {
      "cell_type": "markdown",
      "metadata": {
        "id": "DxDr7RSnT6b0"
      },
      "source": [
        "Create Train and validation sets with (80%, 20%)"
      ]
    },
    {
      "cell_type": "code",
      "metadata": {
        "id": "TlqXhMSrgnDI"
      },
      "source": [
        "# Selecting correspondnig columns for training and test stes\n",
        "\n",
        "X = df[features].values\n",
        "y = df[dep_var].values\n",
        "\n",
        "# Spliting train and test sets. 80% for the training and 20% for the test set.\n",
        "xs, valid_xs, y, valid_y = train_test_split(X, y, test_size=0.20, random_state=seed, shuffle=True)"
      ],
      "execution_count": null,
      "outputs": []
    },
    {
      "cell_type": "markdown",
      "metadata": {
        "id": "Hc2qlsHtsFsN"
      },
      "source": [
        "## Define the evaluation metric, train ML Models, and choose the best one"
      ]
    },
    {
      "cell_type": "markdown",
      "metadata": {
        "id": "lHeUZFHLqa-M"
      },
      "source": [
        "Define [AUC ROC](https://en.wikipedia.org/wiki/Receiver_operating_characteristic) as the evaluation metric because the dataset is imbalanced."
      ]
    },
    {
      "cell_type": "code",
      "metadata": {
        "id": "4rmV7EzUGEDl"
      },
      "source": [
        "def calc_auc_roc(y, prob_pred):\n",
        "  return roc_auc_score(y, prob_pred)"
      ],
      "execution_count": null,
      "outputs": []
    },
    {
      "cell_type": "markdown",
      "metadata": {
        "id": "-bKrmHFWRawF"
      },
      "source": [
        "Now, it is time to do the hyper-parameter tuning"
      ]
    },
    {
      "cell_type": "code",
      "metadata": {
        "id": "ukIXAHSARVc_"
      },
      "source": [
        "## Hyperparameters\n",
        "\n",
        "lr_hyperparameters = {\n",
        "    'lr__C': [0.01, 0.1, 1.0, 10, 100]\n",
        "}\n",
        "\n",
        "rf_hyperparameters = {\n",
        "    'rf__n_estimators': np.arange(20,100,10),\n",
        "    'rf__max_features': np.arange(0.5,1.0,0.1),\n",
        "    'rf__max_depth': np.arange(1,20,5),\n",
        "}\n",
        "\n",
        "xgb_hyperparameters = {\n",
        "    'xgb__max_depth': np.arange(2,12,2),  # the maximum depth of each tree\n",
        "    'xgb__learning_rate': [0.1,0.3],  # the training step for each iteration\n",
        "    'xgb__n_estimators': np.arange(1,80,10),\n",
        "}\n",
        "\n",
        "lgbm_hyperparameters = {\n",
        "    'lgbm__n_estimators': np.arange(10,140,20),\n",
        "    'lgbm__min_data_in_leaf': np.arange(100,1000,100),\n",
        "    'lgbm__max_depth': np.arange(2,10,2),\n",
        "\n",
        "}\n",
        "\n",
        "hyperparameters = {\n",
        "    'lr': lr_hyperparameters,\n",
        "    'rf': rf_hyperparameters,\n",
        "    'lgbm': lgbm_hyperparameters,\n",
        "    'xgb': xgb_hyperparameters,\n",
        "}\n",
        "\n",
        "# Pipeline of ML classiferis' pipielines \n",
        "pipelines = {\n",
        "    'bl': Pipeline([('bl', DummyClassifier(strategy='most_frequent'))]), # base line\n",
        "    'lr': Pipeline([('lr',LogisticRegression(random_state=seed, n_jobs=-1, penalty='l2'))]),\n",
        "    'rf': Pipeline([('rf', RandomForestClassifier(random_state=seed, n_jobs=-1, oob_score=True))]),\n",
        "    'xgb': Pipeline([('xgb', XGBClassifier(random_state=seed, n_jobs=-1))]),\n",
        "    'lgbm': Pipeline([('lgbm', LGBMClassifier(random_state=seed, n_jobs=-1))]),\n",
        "}"
      ],
      "execution_count": null,
      "outputs": []
    },
    {
      "cell_type": "code",
      "metadata": {
        "colab": {
          "base_uri": "https://localhost:8080/",
          "height": 805,
          "referenced_widgets": [
            "b635cd134cea4c0f871b697da1b00b5d",
            "01259a6093574f689cae92a507125816",
            "919ba8037bbe4334895c7bab11b57a12",
            "d92abd9acb624092b90ec6f9bc1a96d2",
            "bf3668469c9f426ab0ee17ccac902da6",
            "f910f15056184144b365f50de00f809b",
            "bf234104a69849fe9e748b835df6abe2",
            "aa291cd51fca42988c94ecac946d23c0"
          ]
        },
        "id": "EXEEEu2feNXX",
        "outputId": "152999ce-8d79-4de8-d7aa-39dc2c378ec2"
      },
      "source": [
        "# Start the training process\n",
        "\n",
        "results = []\n",
        "model_names = {\"bl\":\"Baseline\", \"lr\": \"Logistic Regression\" , \"rf\":\"Random Forest\", \n",
        "               \"xgb\": \"XGBoost\", \"lgbm\": \"Light Gradient Boosting\"}\n",
        "\n",
        "fig, ax =  plt.subplots(figsize=(8, 8))\n",
        "ax.plot([0, 1], [0, 1], \"k:\", label=\"Perfectly calibrated\")\n",
        "\n",
        "for key, pipeline in tqdm(pipelines.items()):\n",
        "  if key == 'bl':\n",
        "      model = pipeline\n",
        "  else:\n",
        "      model = GridSearchCV(pipeline, hyperparameters[key], cv=cv, scoring=scoring, n_jobs=-1)\n",
        "\n",
        "  model.fit(xs,y)\n",
        "\n",
        "  if hasattr(model,'best_estimator_'):\n",
        "      best = model.best_estimator_.named_steps[key]\n",
        "  else:\n",
        "      best = model\n",
        "\n",
        "  result = {}\n",
        "\n",
        "  result[\"model\"] = model_names[key]\n",
        "\n",
        "  train_prob_pred = best.predict_proba(xs)[:,1]\n",
        "\n",
        "  result[\"training (auc roc)\"] = calc_auc_roc(y, train_prob_pred)\n",
        "  \n",
        "  validation_prob_pred = best.predict_proba(valid_xs)[:,1]\n",
        "\n",
        "  result[\"validation (auc roc)\"]  = calc_auc_roc(valid_y, validation_prob_pred)\n",
        "\n",
        "\n",
        "  fraction_of_positives, mean_predicted_value = calibration_curve(valid_y, validation_prob_pred, n_bins=10)\n",
        "\n",
        "  result[\"Brier score\"] = brier_score_loss(valid_y, validation_prob_pred)\n",
        "\n",
        "  results.append(result)\n",
        "\n",
        "  # Do not log calibration information for baseline fitter, as I already have done it.\n",
        "  if key == 'bl':\n",
        "    continue\n",
        "\n",
        "  # Plot the calibration plot  \n",
        "  ax.plot(mean_predicted_value, fraction_of_positives, \"s-\", label=\"%s\" % (model_names[key], ))\n",
        "    \n",
        "  # Save the model\n",
        "  joblib.dump(best, f'{model_names[key]}.joblib')\n",
        "\n",
        "results_df = pd.DataFrame(results).round(3)\n",
        "display(results_df)\n",
        "\n",
        "ax.set_xlabel(\"Mean predicted value\")\n",
        "ax.set_ylabel(\"Fraction of positives\")\n",
        "ax.set_ylim([-0.05, 1.05])\n",
        "ax.legend(loc=\"lower right\")\n",
        "ax.set_title('Calibration plot  (reliability curve)')\n",
        "\n",
        "plt.tight_layout()\n",
        "plt.savefig('calibartion_plot.png', bbox_inches='tight')\n",
        "plt.show()"
      ],
      "execution_count": null,
      "outputs": [
        {
          "output_type": "display_data",
          "data": {
            "application/vnd.jupyter.widget-view+json": {
              "model_id": "b635cd134cea4c0f871b697da1b00b5d",
              "version_minor": 0,
              "version_major": 2
            },
            "text/plain": [
              "HBox(children=(FloatProgress(value=0.0, max=5.0), HTML(value='')))"
            ]
          },
          "metadata": {
            "tags": []
          }
        },
        {
          "output_type": "stream",
          "text": [
            "\n"
          ],
          "name": "stdout"
        },
        {
          "output_type": "display_data",
          "data": {
            "text/html": [
              "<div>\n",
              "<style scoped>\n",
              "    .dataframe tbody tr th:only-of-type {\n",
              "        vertical-align: middle;\n",
              "    }\n",
              "\n",
              "    .dataframe tbody tr th {\n",
              "        vertical-align: top;\n",
              "    }\n",
              "\n",
              "    .dataframe thead th {\n",
              "        text-align: right;\n",
              "    }\n",
              "</style>\n",
              "<table border=\"1\" class=\"dataframe\">\n",
              "  <thead>\n",
              "    <tr style=\"text-align: right;\">\n",
              "      <th></th>\n",
              "      <th>model</th>\n",
              "      <th>training (auc roc)</th>\n",
              "      <th>validation (auc roc)</th>\n",
              "      <th>Brier score</th>\n",
              "    </tr>\n",
              "  </thead>\n",
              "  <tbody>\n",
              "    <tr>\n",
              "      <th>0</th>\n",
              "      <td>Baseline</td>\n",
              "      <td>0.500</td>\n",
              "      <td>0.500</td>\n",
              "      <td>0.127</td>\n",
              "    </tr>\n",
              "    <tr>\n",
              "      <th>1</th>\n",
              "      <td>Logistic Regression</td>\n",
              "      <td>0.803</td>\n",
              "      <td>0.801</td>\n",
              "      <td>0.088</td>\n",
              "    </tr>\n",
              "    <tr>\n",
              "      <th>2</th>\n",
              "      <td>Random Forest</td>\n",
              "      <td>0.847</td>\n",
              "      <td>0.794</td>\n",
              "      <td>0.088</td>\n",
              "    </tr>\n",
              "    <tr>\n",
              "      <th>3</th>\n",
              "      <td>XGBoost</td>\n",
              "      <td>0.844</td>\n",
              "      <td>0.797</td>\n",
              "      <td>0.088</td>\n",
              "    </tr>\n",
              "    <tr>\n",
              "      <th>4</th>\n",
              "      <td>Light Gradient Boosting</td>\n",
              "      <td>0.832</td>\n",
              "      <td>0.794</td>\n",
              "      <td>0.088</td>\n",
              "    </tr>\n",
              "  </tbody>\n",
              "</table>\n",
              "</div>"
            ],
            "text/plain": [
              "                     model  training (auc roc)  validation (auc roc)  \\\n",
              "0                 Baseline               0.500                 0.500   \n",
              "1      Logistic Regression               0.803                 0.801   \n",
              "2            Random Forest               0.847                 0.794   \n",
              "3                  XGBoost               0.844                 0.797   \n",
              "4  Light Gradient Boosting               0.832                 0.794   \n",
              "\n",
              "   Brier score  \n",
              "0        0.127  \n",
              "1        0.088  \n",
              "2        0.088  \n",
              "3        0.088  \n",
              "4        0.088  "
            ]
          },
          "metadata": {
            "tags": []
          }
        },
        {
          "output_type": "display_data",
          "data": {
            "image/png": "[encoded data removed]",
            "text/plain": [
              "<Figure size 576x576 with 1 Axes>"
            ]
          },
          "metadata": {
            "tags": [],
            "needs_background": "light"
          }
        }
      ]
    },
    {
      "cell_type": "markdown",
      "metadata": {
        "id": "iYpANxeBacG9"
      },
      "source": [
        "Select the best model and print its tunned parameters."
      ]
    },
    {
      "cell_type": "code",
      "metadata": {
        "id": "R5oUxCB9yH4j",
        "colab": {
          "base_uri": "https://localhost:8080/"
        },
        "outputId": "f619f3ea-59df-43dd-9b3d-208cfe97fc0a"
      },
      "source": [
        "best_model_name = \"Logistic Regression\"\n",
        "selected_model = joblib.load(f\"{best_model_name}.joblib\")\n",
        "print(f\"selected model is {best_model_name}.\\n\")\n",
        "print(\"Its parameters are:\")\n",
        "selected_model.get_params()"
      ],
      "execution_count": null,
      "outputs": [
        {
          "output_type": "stream",
          "text": [
            "selected model is Logistic Regression.\n",
            "\n",
            "Its parameters are:\n"
          ],
          "name": "stdout"
        },
        {
          "output_type": "execute_result",
          "data": {
            "text/plain": [
              "{'C': 10,\n",
              " 'class_weight': None,\n",
              " 'dual': False,\n",
              " 'fit_intercept': True,\n",
              " 'intercept_scaling': 1,\n",
              " 'l1_ratio': None,\n",
              " 'max_iter': 100,\n",
              " 'multi_class': 'auto',\n",
              " 'n_jobs': -1,\n",
              " 'penalty': 'l2',\n",
              " 'random_state': 42,\n",
              " 'solver': 'lbfgs',\n",
              " 'tol': 0.0001,\n",
              " 'verbose': 0,\n",
              " 'warm_start': False}"
            ]
          },
          "metadata": {
            "tags": []
          },
          "execution_count": 17
        }
      ]
    },
    {
      "cell_type": "code",
      "metadata": {
        "colab": {
          "base_uri": "https://localhost:8080/",
          "height": 480
        },
        "id": "fTwuX8hSGJot",
        "outputId": "cf5ea00e-d0b9-4266-f79b-3a0c9b9536f6"
      },
      "source": [
        "fig, ax =  plt.subplots(figsize=(7, 7))\n",
        "ax.set_title('AUC ROC Curve of the Logistic Regression Model')\n",
        "plot_roc_curve(selected_model, valid_xs, valid_y, ax=ax);"
      ],
      "execution_count": null,
      "outputs": [
        {
          "output_type": "display_data",
          "data": {
            "image/png": "[encoded data removed]",
            "text/plain": [
              "<Figure size 504x504 with 1 Axes>"
            ]
          },
          "metadata": {
            "tags": [],
            "needs_background": "light"
          }
        }
      ]
    },
    {
      "cell_type": "markdown",
      "metadata": {
        "id": "i3zpwQRr9Veo"
      },
      "source": [
        "# Predict on the test set"
      ]
    },
    {
      "cell_type": "code",
      "metadata": {
        "id": "6lJ5R3eL9dd_"
      },
      "source": [
        "test_df[\"prediction\"] = selected_model.predict_proba(test_df[features].values)[:,1]\n",
        "\n",
        "test_df[\"prediction\"].to_csv(\"step2.csv\", index=False)"
      ],
      "execution_count": null,
      "outputs": []
    },
    {
      "cell_type": "markdown",
      "metadata": {
        "id": "7qSyx17eDeNP"
      },
      "source": [
        "## Interpret the model for knowledge discovery"
      ]
    },
    {
      "cell_type": "markdown",
      "metadata": {
        "id": "AQLlEvcSwQC-"
      },
      "source": [
        "Print the coefficients and intercept of the logistic regression model"
      ]
    },
    {
      "cell_type": "code",
      "metadata": {
        "id": "kcJBs3S56WsO",
        "colab": {
          "base_uri": "https://localhost:8080/",
          "height": 444
        },
        "outputId": "65e347af-3b8b-43dd-9dbb-093466ce2119"
      },
      "source": [
        "intercept = round(selected_model.intercept_[0],2)\n",
        "print(f\"The model intercept is {intercept}\\n\")\n",
        "\n",
        "coefficients = [round(c,2) for c in selected_model.coef_[0]]\n",
        "\n",
        "print(\"The model coefficients are:\")\n",
        "pd.DataFrame(coefficients, features, columns=['coef']).sort_values(by='coef', ascending=False)"
      ],
      "execution_count": null,
      "outputs": [
        {
          "output_type": "stream",
          "text": [
            "The model intercept is -1.04\n",
            "\n",
            "The model coefficients are:\n"
          ],
          "name": "stdout"
        },
        {
          "output_type": "execute_result",
          "data": {
            "text/html": [
              "<div>\n",
              "<style scoped>\n",
              "    .dataframe tbody tr th:only-of-type {\n",
              "        vertical-align: middle;\n",
              "    }\n",
              "\n",
              "    .dataframe tbody tr th {\n",
              "        vertical-align: top;\n",
              "    }\n",
              "\n",
              "    .dataframe thead th {\n",
              "        text-align: right;\n",
              "    }\n",
              "</style>\n",
              "<table border=\"1\" class=\"dataframe\">\n",
              "  <thead>\n",
              "    <tr style=\"text-align: right;\">\n",
              "      <th></th>\n",
              "      <th>coef</th>\n",
              "    </tr>\n",
              "  </thead>\n",
              "  <tbody>\n",
              "    <tr>\n",
              "      <th>پنالتی</th>\n",
              "      <td>2.10</td>\n",
              "    </tr>\n",
              "    <tr>\n",
              "      <th>ضربه آزاد مستقیم</th>\n",
              "      <td>1.22</td>\n",
              "    </tr>\n",
              "    <tr>\n",
              "      <th>کم</th>\n",
              "      <td>0.94</td>\n",
              "    </tr>\n",
              "    <tr>\n",
              "      <th>متوسط</th>\n",
              "      <td>0.66</td>\n",
              "    </tr>\n",
              "    <tr>\n",
              "      <th>مستقیم از کرنر</th>\n",
              "      <td>0.17</td>\n",
              "    </tr>\n",
              "    <tr>\n",
              "      <th>interveningTeammates</th>\n",
              "      <td>0.06</td>\n",
              "    </tr>\n",
              "    <tr>\n",
              "      <th>angle</th>\n",
              "      <td>0.02</td>\n",
              "    </tr>\n",
              "    <tr>\n",
              "      <th>پا</th>\n",
              "      <td>-0.08</td>\n",
              "    </tr>\n",
              "    <tr>\n",
              "      <th>distance</th>\n",
              "      <td>-0.09</td>\n",
              "    </tr>\n",
              "    <tr>\n",
              "      <th>interveningOpponents</th>\n",
              "      <td>-0.31</td>\n",
              "    </tr>\n",
              "    <tr>\n",
              "      <th>سر</th>\n",
              "      <td>-1.00</td>\n",
              "    </tr>\n",
              "  </tbody>\n",
              "</table>\n",
              "</div>"
            ],
            "text/plain": [
              "                      coef\n",
              "پنالتی                2.10\n",
              "ضربه آزاد مستقیم      1.22\n",
              "کم                    0.94\n",
              "متوسط                 0.66\n",
              "مستقیم از کرنر        0.17\n",
              "interveningTeammates  0.06\n",
              "angle                 0.02\n",
              "پا                   -0.08\n",
              "distance             -0.09\n",
              "interveningOpponents -0.31\n",
              "سر                   -1.00"
            ]
          },
          "metadata": {
            "tags": []
          },
          "execution_count": 20
        }
      ]
    },
    {
      "cell_type": "markdown",
      "metadata": {
        "id": "MZgt6A0Wd4P0"
      },
      "source": [
        "# Explicit Formula from Logistic Regression: </br>\n",
        "\n",
        "![LogisticRegression.png](data:image/png;base64,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)"
      ]
    },
    {
      "cell_type": "markdown",
      "metadata": {
        "id": "fZ1AtKzFK6m1"
      },
      "source": [
        "1-dimensional partial dependence plots"
      ]
    },
    {
      "cell_type": "code",
      "metadata": {
        "id": "j8wrJ-qJDeNS",
        "scrolled": false,
        "colab": {
          "base_uri": "https://localhost:8080/",
          "height": 1000
        },
        "outputId": "cb0a7e81-f5f0-40be-f754-0b7dcadeb227"
      },
      "source": [
        "explore_cols = [\"angle\", \"distance\", \"interveningOpponents\",\"interveningTeammates\"]\n",
        "\n",
        "valid_xs_df = pd.DataFrame(valid_xs, columns = features)\n",
        "\n",
        "for index, col in enumerate(explore_cols):\n",
        "    fig,ax = plt.subplots(figsize=(12, 4))\n",
        "    plot_partial_dependence(selected_model, valid_xs_df, [col], grid_resolution=20, ax=ax);"
      ],
      "execution_count": null,
      "outputs": [
        {
          "output_type": "display_data",
          "data": {
            "image/png": "[encoded data removed]",
            "text/plain": [
              "<Figure size 864x288 with 2 Axes>"
            ]
          },
          "metadata": {
            "tags": [],
            "needs_background": "light"
          }
        },
        {
          "output_type": "display_data",
          "data": {
            "image/png": "[encoded data removed]",
            "text/plain": [
              "<Figure size 864x288 with 2 Axes>"
            ]
          },
          "metadata": {
            "tags": [],
            "needs_background": "light"
          }
        },
        {
          "output_type": "display_data",
          "data": {
            "image/png": "[encoded data removed]",
            "text/plain": [
              "<Figure size 864x288 with 2 Axes>"
            ]
          },
          "metadata": {
            "tags": [],
            "needs_background": "light"
          }
        },
        {
          "output_type": "display_data",
          "data": {
            "image/png": "[encoded data removed]",
            "text/plain": [
              "<Figure size 864x288 with 2 Axes>"
            ]
          },
          "metadata": {
            "tags": [],
            "needs_background": "light"
          }
        }
      ]
    },
    {
      "cell_type": "markdown",
      "metadata": {
        "id": "wHCNTkK1d0fT"
      },
      "source": [
        "2-dimensional partial dependence plots\n"
      ]
    },
    {
      "cell_type": "code",
      "metadata": {
        "id": "vOXfxf0vDeNS",
        "scrolled": true,
        "colab": {
          "base_uri": "https://localhost:8080/",
          "height": 1000
        },
        "outputId": "efbb0abe-435d-4518-ec1b-7775f3dc1516"
      },
      "source": [
        "paired_features = [\n",
        "                  (\"angle\",\"distance\"),\n",
        "                  (\"interveningOpponents\",\"interveningTeammates\"),\n",
        "                  (\"angle\",\"interveningOpponents\"),\n",
        "                  (\"distance\",\"interveningOpponents\"),\n",
        "                  ]\n",
        "\n",
        "for index, pair in enumerate(paired_features):\n",
        "  fig,ax = plt.subplots(figsize=(8, 8))\n",
        "  plot_partial_dependence(selected_model, valid_xs_df, [pair], grid_resolution=20, ax=ax);"
      ],
      "execution_count": null,
      "outputs": [
        {
          "output_type": "display_data",
          "data": {
            "image/png": "[encoded data removed]",
            "text/plain": [
              "<Figure size 576x576 with 2 Axes>"
            ]
          },
          "metadata": {
            "tags": [],
            "needs_background": "light"
          }
        },
        {
          "output_type": "display_data",
          "data": {
            "image/png": "[encoded data removed]",
            "text/plain": [
              "<Figure size 576x576 with 2 Axes>"
            ]
          },
          "metadata": {
            "tags": [],
            "needs_background": "light"
          }
        },
        {
          "output_type": "display_data",
          "data": {
            "image/png": "[encoded data removed]",
            "text/plain": [
              "<Figure size 576x576 with 2 Axes>"
            ]
          },
          "metadata": {
            "tags": [],
            "needs_background": "light"
          }
        },
        {
          "output_type": "display_data",
          "data": {
            "image/png": "[encoded data removed]",
            "text/plain": [
              "<Figure size 576x576 with 2 Axes>"
            ]
          },
          "metadata": {
            "tags": [],
            "needs_background": "light"
          }
        }
      ]
    },
    {
      "cell_type": "markdown",
      "metadata": {
        "id": "jnufsy8KtZPm"
      },
      "source": [
        "# **Step 3 - Player Recruitment**"
      ]
    },
    {
      "cell_type": "code",
      "metadata": {
        "id": "8r6VpzlvvYcs"
      },
      "source": [
        "# add the xG column\n",
        "df[\"xG\"] = selected_model.predict_proba(df[features].values)[:,1]"
      ],
      "execution_count": null,
      "outputs": []
    },
    {
      "cell_type": "code",
      "metadata": {
        "id": "S_IGXDjYHVK0"
      },
      "source": [
        "# non-penalty goals\n",
        "non_penalty_df = df.loc[df[\"پنالتی\"]==0]\n",
        "\n",
        "non_penalty_df[\"n_shots\"] = 1\n",
        "\n",
        "players_stats = non_penalty_df.groupby('playerId')[['n_shots', dep_var, 'xG']].sum().reset_index()\n",
        "\n",
        "players_stats = players_stats.rename(columns={dep_var: \"Goals\"})\n",
        "\n",
        "# calculate the number of matches they played\n",
        "n_matches_dict = non_penalty_df.groupby(\"playerId\")[\"matchId\"].nunique().to_dict()\n",
        "\n",
        "players_stats[\"n_matches\"] = players_stats[\"playerId\"].apply(lambda playerId: n_matches_dict[playerId])\n",
        "\n",
        "players_stats[\"Outperformance1\"] = players_stats[\"Goals\"]/players_stats[\"xG\"]\n",
        "\n",
        "players_stats[\"Outperformance2\"] = (players_stats[\"Goals\"]-players_stats[\"xG\"])/players_stats[\"n_matches\"]\n",
        "\n",
        "players_stats = players_stats.round(2)\n",
        "\n",
        "ordered_cols = ['playerId','n_matches','n_shots','Goals','xG','Outperformance1','Outperformance2']"
      ],
      "execution_count": null,
      "outputs": []
    },
    {
      "cell_type": "code",
      "metadata": {
        "colab": {
          "base_uri": "https://localhost:8080/",
          "height": 204
        },
        "id": "uy_q3_HgXQpZ",
        "outputId": "6df66268-b00b-4515-b992-1d2af2a4cd00"
      },
      "source": [
        "players_stats[ordered_cols].sort_values(\"Goals\",ascending=False).head(5)"
      ],
      "execution_count": null,
      "outputs": [
        {
          "output_type": "execute_result",
          "data": {
            "text/html": [
              "<div>\n",
              "<style scoped>\n",
              "    .dataframe tbody tr th:only-of-type {\n",
              "        vertical-align: middle;\n",
              "    }\n",
              "\n",
              "    .dataframe tbody tr th {\n",
              "        vertical-align: top;\n",
              "    }\n",
              "\n",
              "    .dataframe thead th {\n",
              "        text-align: right;\n",
              "    }\n",
              "</style>\n",
              "<table border=\"1\" class=\"dataframe\">\n",
              "  <thead>\n",
              "    <tr style=\"text-align: right;\">\n",
              "      <th></th>\n",
              "      <th>playerId</th>\n",
              "      <th>n_matches</th>\n",
              "      <th>n_shots</th>\n",
              "      <th>Goals</th>\n",
              "      <th>xG</th>\n",
              "      <th>Outperformance1</th>\n",
              "      <th>Outperformance2</th>\n",
              "    </tr>\n",
              "  </thead>\n",
              "  <tbody>\n",
              "    <tr>\n",
              "      <th>70</th>\n",
              "      <td>p_18</td>\n",
              "      <td>53</td>\n",
              "      <td>62</td>\n",
              "      <td>15</td>\n",
              "      <td>8.21</td>\n",
              "      <td>1.83</td>\n",
              "      <td>0.13</td>\n",
              "    </tr>\n",
              "    <tr>\n",
              "      <th>116</th>\n",
              "      <td>p_6</td>\n",
              "      <td>53</td>\n",
              "      <td>63</td>\n",
              "      <td>13</td>\n",
              "      <td>7.38</td>\n",
              "      <td>1.76</td>\n",
              "      <td>0.11</td>\n",
              "    </tr>\n",
              "    <tr>\n",
              "      <th>73</th>\n",
              "      <td>p_20</td>\n",
              "      <td>59</td>\n",
              "      <td>68</td>\n",
              "      <td>12</td>\n",
              "      <td>9.05</td>\n",
              "      <td>1.33</td>\n",
              "      <td>0.05</td>\n",
              "    </tr>\n",
              "    <tr>\n",
              "      <th>18</th>\n",
              "      <td>p_115</td>\n",
              "      <td>57</td>\n",
              "      <td>62</td>\n",
              "      <td>12</td>\n",
              "      <td>9.58</td>\n",
              "      <td>1.25</td>\n",
              "      <td>0.04</td>\n",
              "    </tr>\n",
              "    <tr>\n",
              "      <th>72</th>\n",
              "      <td>p_2</td>\n",
              "      <td>50</td>\n",
              "      <td>58</td>\n",
              "      <td>12</td>\n",
              "      <td>8.15</td>\n",
              "      <td>1.47</td>\n",
              "      <td>0.08</td>\n",
              "    </tr>\n",
              "  </tbody>\n",
              "</table>\n",
              "</div>"
            ],
            "text/plain": [
              "    playerId  n_matches  n_shots  Goals    xG  Outperformance1  \\\n",
              "70      p_18         53       62     15  8.21             1.83   \n",
              "116      p_6         53       63     13  7.38             1.76   \n",
              "73      p_20         59       68     12  9.05             1.33   \n",
              "18     p_115         57       62     12  9.58             1.25   \n",
              "72       p_2         50       58     12  8.15             1.47   \n",
              "\n",
              "     Outperformance2  \n",
              "70              0.13  \n",
              "116             0.11  \n",
              "73              0.05  \n",
              "18              0.04  \n",
              "72              0.08  "
            ]
          },
          "metadata": {
            "tags": []
          },
          "execution_count": 25
        }
      ]
    },
    {
      "cell_type": "code",
      "metadata": {
        "colab": {
          "base_uri": "https://localhost:8080/",
          "height": 204
        },
        "id": "AyPojMekXRKg",
        "outputId": "b4f899ea-f15a-489c-a758-fd114471ca93"
      },
      "source": [
        "players_stats[ordered_cols].sort_values(\"xG\",ascending=False).head(5)"
      ],
      "execution_count": null,
      "outputs": [
        {
          "output_type": "execute_result",
          "data": {
            "text/html": [
              "<div>\n",
              "<style scoped>\n",
              "    .dataframe tbody tr th:only-of-type {\n",
              "        vertical-align: middle;\n",
              "    }\n",
              "\n",
              "    .dataframe tbody tr th {\n",
              "        vertical-align: top;\n",
              "    }\n",
              "\n",
              "    .dataframe thead th {\n",
              "        text-align: right;\n",
              "    }\n",
              "</style>\n",
              "<table border=\"1\" class=\"dataframe\">\n",
              "  <thead>\n",
              "    <tr style=\"text-align: right;\">\n",
              "      <th></th>\n",
              "      <th>playerId</th>\n",
              "      <th>n_matches</th>\n",
              "      <th>n_shots</th>\n",
              "      <th>Goals</th>\n",
              "      <th>xG</th>\n",
              "      <th>Outperformance1</th>\n",
              "      <th>Outperformance2</th>\n",
              "    </tr>\n",
              "  </thead>\n",
              "  <tbody>\n",
              "    <tr>\n",
              "      <th>0</th>\n",
              "      <td>p_1</td>\n",
              "      <td>61</td>\n",
              "      <td>66</td>\n",
              "      <td>9</td>\n",
              "      <td>10.60</td>\n",
              "      <td>0.85</td>\n",
              "      <td>-0.03</td>\n",
              "    </tr>\n",
              "    <tr>\n",
              "      <th>67</th>\n",
              "      <td>p_16</td>\n",
              "      <td>56</td>\n",
              "      <td>65</td>\n",
              "      <td>8</td>\n",
              "      <td>9.72</td>\n",
              "      <td>0.82</td>\n",
              "      <td>-0.03</td>\n",
              "    </tr>\n",
              "    <tr>\n",
              "      <th>18</th>\n",
              "      <td>p_115</td>\n",
              "      <td>57</td>\n",
              "      <td>62</td>\n",
              "      <td>12</td>\n",
              "      <td>9.58</td>\n",
              "      <td>1.25</td>\n",
              "      <td>0.04</td>\n",
              "    </tr>\n",
              "    <tr>\n",
              "      <th>105</th>\n",
              "      <td>p_5</td>\n",
              "      <td>54</td>\n",
              "      <td>62</td>\n",
              "      <td>8</td>\n",
              "      <td>9.56</td>\n",
              "      <td>0.84</td>\n",
              "      <td>-0.03</td>\n",
              "    </tr>\n",
              "    <tr>\n",
              "      <th>73</th>\n",
              "      <td>p_20</td>\n",
              "      <td>59</td>\n",
              "      <td>68</td>\n",
              "      <td>12</td>\n",
              "      <td>9.05</td>\n",
              "      <td>1.33</td>\n",
              "      <td>0.05</td>\n",
              "    </tr>\n",
              "  </tbody>\n",
              "</table>\n",
              "</div>"
            ],
            "text/plain": [
              "    playerId  n_matches  n_shots  Goals     xG  Outperformance1  \\\n",
              "0        p_1         61       66      9  10.60             0.85   \n",
              "67      p_16         56       65      8   9.72             0.82   \n",
              "18     p_115         57       62     12   9.58             1.25   \n",
              "105      p_5         54       62      8   9.56             0.84   \n",
              "73      p_20         59       68     12   9.05             1.33   \n",
              "\n",
              "     Outperformance2  \n",
              "0              -0.03  \n",
              "67             -0.03  \n",
              "18              0.04  \n",
              "105            -0.03  \n",
              "73              0.05  "
            ]
          },
          "metadata": {
            "tags": []
          },
          "execution_count": 26
        }
      ]
    },
    {
      "cell_type": "code",
      "metadata": {
        "colab": {
          "base_uri": "https://localhost:8080/",
          "height": 204
        },
        "id": "atSuwBDBXQ8S",
        "outputId": "ad6f570a-27a4-4a64-97dc-47ab6894865f"
      },
      "source": [
        "players_stats[ordered_cols].sort_values(\"Outperformance1\",ascending=False).head(5)"
      ],
      "execution_count": null,
      "outputs": [
        {
          "output_type": "execute_result",
          "data": {
            "text/html": [
              "<div>\n",
              "<style scoped>\n",
              "    .dataframe tbody tr th:only-of-type {\n",
              "        vertical-align: middle;\n",
              "    }\n",
              "\n",
              "    .dataframe tbody tr th {\n",
              "        vertical-align: top;\n",
              "    }\n",
              "\n",
              "    .dataframe thead th {\n",
              "        text-align: right;\n",
              "    }\n",
              "</style>\n",
              "<table border=\"1\" class=\"dataframe\">\n",
              "  <thead>\n",
              "    <tr style=\"text-align: right;\">\n",
              "      <th></th>\n",
              "      <th>playerId</th>\n",
              "      <th>n_matches</th>\n",
              "      <th>n_shots</th>\n",
              "      <th>Goals</th>\n",
              "      <th>xG</th>\n",
              "      <th>Outperformance1</th>\n",
              "      <th>Outperformance2</th>\n",
              "    </tr>\n",
              "  </thead>\n",
              "  <tbody>\n",
              "    <tr>\n",
              "      <th>140</th>\n",
              "      <td>p_81</td>\n",
              "      <td>42</td>\n",
              "      <td>47</td>\n",
              "      <td>9</td>\n",
              "      <td>4.59</td>\n",
              "      <td>1.96</td>\n",
              "      <td>0.11</td>\n",
              "    </tr>\n",
              "    <tr>\n",
              "      <th>7</th>\n",
              "      <td>p_105</td>\n",
              "      <td>46</td>\n",
              "      <td>56</td>\n",
              "      <td>11</td>\n",
              "      <td>5.90</td>\n",
              "      <td>1.87</td>\n",
              "      <td>0.11</td>\n",
              "    </tr>\n",
              "    <tr>\n",
              "      <th>99</th>\n",
              "      <td>p_44</td>\n",
              "      <td>42</td>\n",
              "      <td>49</td>\n",
              "      <td>11</td>\n",
              "      <td>5.90</td>\n",
              "      <td>1.87</td>\n",
              "      <td>0.12</td>\n",
              "    </tr>\n",
              "    <tr>\n",
              "      <th>70</th>\n",
              "      <td>p_18</td>\n",
              "      <td>53</td>\n",
              "      <td>62</td>\n",
              "      <td>15</td>\n",
              "      <td>8.21</td>\n",
              "      <td>1.83</td>\n",
              "      <td>0.13</td>\n",
              "    </tr>\n",
              "    <tr>\n",
              "      <th>116</th>\n",
              "      <td>p_6</td>\n",
              "      <td>53</td>\n",
              "      <td>63</td>\n",
              "      <td>13</td>\n",
              "      <td>7.38</td>\n",
              "      <td>1.76</td>\n",
              "      <td>0.11</td>\n",
              "    </tr>\n",
              "  </tbody>\n",
              "</table>\n",
              "</div>"
            ],
            "text/plain": [
              "    playerId  n_matches  n_shots  Goals    xG  Outperformance1  \\\n",
              "140     p_81         42       47      9  4.59             1.96   \n",
              "7      p_105         46       56     11  5.90             1.87   \n",
              "99      p_44         42       49     11  5.90             1.87   \n",
              "70      p_18         53       62     15  8.21             1.83   \n",
              "116      p_6         53       63     13  7.38             1.76   \n",
              "\n",
              "     Outperformance2  \n",
              "140             0.11  \n",
              "7               0.11  \n",
              "99              0.12  \n",
              "70              0.13  \n",
              "116             0.11  "
            ]
          },
          "metadata": {
            "tags": []
          },
          "execution_count": 27
        }
      ]
    },
    {
      "cell_type": "code",
      "metadata": {
        "colab": {
          "base_uri": "https://localhost:8080/",
          "height": 204
        },
        "id": "g12N1GaEXyyN",
        "outputId": "8a16ae7c-27e5-4d9c-930c-4e501e301386"
      },
      "source": [
        "players_stats[ordered_cols].sort_values(\"Outperformance2\",ascending=False).head(5)"
      ],
      "execution_count": null,
      "outputs": [
        {
          "output_type": "execute_result",
          "data": {
            "text/html": [
              "<div>\n",
              "<style scoped>\n",
              "    .dataframe tbody tr th:only-of-type {\n",
              "        vertical-align: middle;\n",
              "    }\n",
              "\n",
              "    .dataframe tbody tr th {\n",
              "        vertical-align: top;\n",
              "    }\n",
              "\n",
              "    .dataframe thead th {\n",
              "        text-align: right;\n",
              "    }\n",
              "</style>\n",
              "<table border=\"1\" class=\"dataframe\">\n",
              "  <thead>\n",
              "    <tr style=\"text-align: right;\">\n",
              "      <th></th>\n",
              "      <th>playerId</th>\n",
              "      <th>n_matches</th>\n",
              "      <th>n_shots</th>\n",
              "      <th>Goals</th>\n",
              "      <th>xG</th>\n",
              "      <th>Outperformance1</th>\n",
              "      <th>Outperformance2</th>\n",
              "    </tr>\n",
              "  </thead>\n",
              "  <tbody>\n",
              "    <tr>\n",
              "      <th>70</th>\n",
              "      <td>p_18</td>\n",
              "      <td>53</td>\n",
              "      <td>62</td>\n",
              "      <td>15</td>\n",
              "      <td>8.21</td>\n",
              "      <td>1.83</td>\n",
              "      <td>0.13</td>\n",
              "    </tr>\n",
              "    <tr>\n",
              "      <th>99</th>\n",
              "      <td>p_44</td>\n",
              "      <td>42</td>\n",
              "      <td>49</td>\n",
              "      <td>11</td>\n",
              "      <td>5.90</td>\n",
              "      <td>1.87</td>\n",
              "      <td>0.12</td>\n",
              "    </tr>\n",
              "    <tr>\n",
              "      <th>140</th>\n",
              "      <td>p_81</td>\n",
              "      <td>42</td>\n",
              "      <td>47</td>\n",
              "      <td>9</td>\n",
              "      <td>4.59</td>\n",
              "      <td>1.96</td>\n",
              "      <td>0.11</td>\n",
              "    </tr>\n",
              "    <tr>\n",
              "      <th>116</th>\n",
              "      <td>p_6</td>\n",
              "      <td>53</td>\n",
              "      <td>63</td>\n",
              "      <td>13</td>\n",
              "      <td>7.38</td>\n",
              "      <td>1.76</td>\n",
              "      <td>0.11</td>\n",
              "    </tr>\n",
              "    <tr>\n",
              "      <th>7</th>\n",
              "      <td>p_105</td>\n",
              "      <td>46</td>\n",
              "      <td>56</td>\n",
              "      <td>11</td>\n",
              "      <td>5.90</td>\n",
              "      <td>1.87</td>\n",
              "      <td>0.11</td>\n",
              "    </tr>\n",
              "  </tbody>\n",
              "</table>\n",
              "</div>"
            ],
            "text/plain": [
              "    playerId  n_matches  n_shots  Goals    xG  Outperformance1  \\\n",
              "70      p_18         53       62     15  8.21             1.83   \n",
              "99      p_44         42       49     11  5.90             1.87   \n",
              "140     p_81         42       47      9  4.59             1.96   \n",
              "116      p_6         53       63     13  7.38             1.76   \n",
              "7      p_105         46       56     11  5.90             1.87   \n",
              "\n",
              "     Outperformance2  \n",
              "70              0.13  \n",
              "99              0.12  \n",
              "140             0.11  \n",
              "116             0.11  \n",
              "7               0.11  "
            ]
          },
          "metadata": {
            "tags": []
          },
          "execution_count": 28
        }
      ]
    },
    {
      "cell_type": "markdown",
      "metadata": {
        "id": "mT_uV7eAeqPR"
      },
      "source": [
        "# **Step 4 - Match Analysis**"
      ]
    },
    {
      "cell_type": "markdown",
      "metadata": {
        "id": "t_w_cWkFhkkb"
      },
      "source": [
        "## Functions needed to enrich the Metrica Shots based on xG model features (Step 1)\n"
      ]
    },
    {
      "cell_type": "code",
      "metadata": {
        "id": "KBVJ8GynfP-r"
      },
      "source": [
        "def calc_interferenceOnShooter(event_team, event_player, frame_home, frame_away):\n",
        "  id_range = range(1,15)\n",
        "  \n",
        "  if event_team == home_team:\n",
        "    opp_team_frame = frame_away\n",
        "    event_team_frame = frame_home\n",
        "    id_range = range(15,27)\n",
        "    opp_team = away_team\n",
        "  else:\n",
        "    opp_team_frame = frame_home\n",
        "    event_team_frame = frame_away\n",
        "    opp_team = home_team\n",
        "\n",
        "  cols = [[f\"{opp_team}_{id}_x\",f\"{opp_team}_{id}_y\"] for id in id_range]\n",
        "\n",
        "  # ball carrier\n",
        "  ballCarrier = tuple(event_team_frame[[f\"{event_team}_{event_player}_x\",f\"{event_team}_{event_player}_y\"]])\n",
        "\n",
        "  number_of_pressing_players = 0\n",
        "  for col in cols:\n",
        "    oppPlayer = tuple(opp_team_frame[col])\n",
        "    if calc_distance(ballCarrier, oppPlayer) <= 1:\n",
        "      number_of_pressing_players = number_of_pressing_players + 1\n",
        "  \n",
        "  if number_of_pressing_players == 0:\n",
        "    return 'کم'\n",
        "  elif number_of_pressing_players == 1:\n",
        "    return 'متوسط'\n",
        "  else:\n",
        "    return 'زیاد'\n",
        "\n",
        "def calc_distance(point1, point2):\n",
        "  \"\"\"Euclidean distance between two points\"\"\"\n",
        "  p1_x, p1_y = point1\n",
        "  p2_x, p2_y = point2\n",
        "  \n",
        "  return np.sqrt((p1_x - p2_x)**2 + (p1_y - p2_y)**2)\n",
        "\n",
        "\n",
        "def calc_distance_to_goalCenter(ball, event_team):\n",
        "  \"\"\"Euclidean distance to center of the target goal\"\"\"\n",
        "  ball_x, ball_y = ball\n",
        "  if event_team == home_team:\n",
        "    return np.sqrt((ball_x - (-pitch_x/2))**2 + (ball_y)**2)\n",
        "  else:\n",
        "    return np.sqrt((ball_x - (pitch_x/2))**2 + (ball_y)**2)\n",
        "\n",
        "def calc_angle(ball, event_team):\n",
        "  \"\"\"Shot angle to the goalposts in degrees\"\"\"\n",
        "  ball_x, ball_y = ball\n",
        "\n",
        "  x_distance_to_goal = abs(pitch_x/2 - ball_x)\n",
        "  y_distance_to_goal = abs(ball_y)\n",
        "  \n",
        "  if event_team == home_team:\n",
        "    x_distance_to_goal = abs(ball_x + pitch_x/2)\n",
        "  angle =  np.arctan(goal_line_width*x_distance_to_goal/(x_distance_to_goal**2+y_distance_to_goal**2-(goal_line_width/2)**2))\n",
        "  if angle < 0:\n",
        "    angle = np.pi + angle\n",
        "  return np.rad2deg(angle)\n",
        "\n",
        "def calc_playType(event_pre_Type, event_pre_Subtype):\n",
        "  '''Calculate the play type of a shot'''\n",
        "  # Possible playTypes from xg model ['Open Play', 'Direct freekick', 'Penalty', 'Direct corner']\n",
        "  play_type = \"Open Play\"\n",
        "  if event_pre_Type == \"SET PIECE\":\n",
        "    if event_pre_Subtype in [\"FREE KICK\",\"FREE KICK-RETAKEN\"]:\n",
        "      play_type = \"ضربه آزاد مستقیم\"\n",
        "    elif event_pre_Subtype == \"CORNER KICK\":\n",
        "      play_type = \"مستقیم از کرنر\"\n",
        "    elif event_pre_Subtype == \"PENALTY\":\n",
        "      play_type = \"پنالتی\"\n",
        "  return play_type\n",
        "\n",
        "def calc_BodyPart(event_Subtype):\n",
        "  '''Calculate the body type involved in a shot'''\n",
        "  # Assuming all shots are with either head or foot\n",
        "  if \"HEAD\" in event_Subtype:\n",
        "    return \"سر\"\n",
        "  else:\n",
        "    return \"پا\"\n",
        "\n",
        "def calc_trianlge_area(point1, point2, point3):\n",
        "  \"\"\"Calculate a triangle area with three given points (x,y)\"\"\"\n",
        "\n",
        "  x1, y1 = point1\n",
        "  x2, y2 = point2\n",
        "  x3, y3 = point3\n",
        "\n",
        "  return abs((x1*(y2-y3)+(x2*(y3-y1))+(x3*(y1-y2)))/2)\n",
        "\n",
        "def calc_Number_Intervening(ball, event_player, event_team, frame, frame_team_name):\n",
        "  \"\"\"Calculate whether a player lies inside the triangle between the shooter and the goalposts\"\"\"\n",
        "\n",
        "  number_intervening_players = 0\n",
        "  \n",
        "  goalpost1 = ()\n",
        "  goalpost2 = ()\n",
        "  \n",
        "  if event_team == home_team:\n",
        "    goalpost1 = (-pitch_x/2, goal_line_width/2)\n",
        "    goalpost2 = (-pitch_x/2, -goal_line_width/2)\n",
        "  else:\n",
        "    goalpost1 = (pitch_x/2, goal_line_width/2)\n",
        "    goalpost2 = (pitch_x/2, -goal_line_width/2)\n",
        "\n",
        "  shooter_triangle_area = calc_trianlge_area(ball, goalpost1, goalpost2)\n",
        "\n",
        "  id_range = range(1,15)\n",
        "  if frame_team_name == away_team:\n",
        "    id_range = range(15,27)\n",
        "  \n",
        "  cols = [[f\"{frame_team_name}_{id}_x\",f\"{frame_team_name}_{id}_y\"] for id in id_range]\n",
        "\n",
        "  # If calculating teammates obscuring the goal, remove the action taker player from the list\n",
        "  if event_team == frame_team_name:\n",
        "    cols.remove([f\"{frame_team_name}_{event_player}_x\",f\"{frame_team_name}_{event_player}_y\"])\n",
        "\n",
        "  for col in cols:\n",
        "    playerPoint = tuple(frame[col])\n",
        "    if np.isnan(playerPoint[0]):\n",
        "      continue\n",
        "    player_triangles_areas = calc_trianlge_area(playerPoint, goalpost1, goalpost2) + calc_trianlge_area(playerPoint, goalpost1, ball) + calc_trianlge_area(playerPoint, goalpost2, ball)\n",
        "    if round(shooter_triangle_area) == round(player_triangles_areas):\n",
        "      number_intervening_players = number_intervening_players + 1\n",
        "  return number_intervening_players\n",
        "\n",
        "def calc_goal(event_Subtype):\n",
        "  '''Calculate whether the outcome is goal or not'''\n",
        "  if 'GOAL' in event_Subtype:\n",
        "    return 1\n",
        "  else:\n",
        "    return 0\n",
        "\n",
        "def calc_xG(instance):\n",
        "  '''Predict the goal-scoring probability of a shot by applying the trained model'''\n",
        "  x = instance[features].values.reshape(1,-1)\n",
        "  return round(selected_model.predict_proba(x)[:,1][0],2)"
      ],
      "execution_count": null,
      "outputs": []
    },
    {
      "cell_type": "markdown",
      "metadata": {
        "id": "Jfq2yU0Dhshf"
      },
      "source": [
        "## Find the shot frames and enrich them with defined functions to predict xG values."
      ]
    },
    {
      "cell_type": "code",
      "metadata": {
        "id": "Z4WOXi9JfTf6",
        "colab": {
          "base_uri": "https://localhost:8080/",
          "height": 294
        },
        "outputId": "08148500-643e-4396-e8e7-9023c278ddf8"
      },
      "source": [
        "# Read the event data\n",
        "events = mio.read_event_data(DATADIR,game_id)\n",
        "\n",
        "# Bit of housekeeping: unit conversion from metric data units to meters\n",
        "events = mio.to_metric_coordinates(events)\n",
        "\n",
        "#### TRACKING DATA ####\n",
        "\n",
        "# READING IN TRACKING DATA\n",
        "tracking_home = mio.tracking_data(DATADIR,game_id,'Home')\n",
        "tracking_away = mio.tracking_data(DATADIR,game_id,'Away')\n",
        "\n",
        "# Convert positions from metrica units to meters \n",
        "tracking_home = mio.to_metric_coordinates(tracking_home)\n",
        "tracking_away = mio.to_metric_coordinates(tracking_away)\n",
        "\n",
        "# Reverse direction of play in the second half \n",
        "# So that home team is always attacking from right->left\n",
        "# And the away team is always attacking from left->right\n",
        "tracking_home,tracking_away,events = mio.to_single_playing_direction(tracking_home,tracking_away,events)\n",
        "\n",
        "# Add a column event 'Minute' to the data frame\n",
        "events['Minute'] = events['Start Time [s]']/60.\n",
        "\n",
        "# Add information abou the previous action\n",
        "events[\"pre_Type\"] = events[\"Type\"].shift(1)\n",
        "events[\"pre_Subtype\"] = events[\"Subtype\"].shift(1)\n",
        "\n",
        "# Create the dataframe required by the xG model\n",
        "xg_features = ['interveningOpponents', 'interveningTeammates', 'distance', 'angle', \n",
        "               'ضربه آزاد مستقیم', 'مستقیم از کرنر', 'پنالتی', 'سر', 'پا', 'متوسط', 'کم', 'isGoal']\n",
        "\n",
        "instances = []\n",
        "for index, event in events[events.Type==\"SHOT\"].iterrows():\n",
        "  # Extract required information\n",
        "  event_team = event.Team\n",
        "  event_player = event.From.replace(\"Player\",\"\").strip()\n",
        "  event_time_seconds = event[\"Start Time [s]\"]\n",
        "  event_time_minutes = event.Minute\n",
        "  event_Subtype = event.Subtype\n",
        "  event_pre_Type = event.pre_Type\n",
        "  event_pre_Subtype = event.pre_Subtype\n",
        "\n",
        "  frame_number = event[\"Start Frame\"] # get the event frame number\n",
        "  frame_home = tracking_home.loc[frame_number]\n",
        "  frame_away = tracking_away.loc[frame_number]\n",
        "\n",
        "  ball = (frame_home[\"ball_x\"], frame_home[\"ball_y\"])\n",
        "\n",
        "  instance = {}\n",
        "  instance[\"Frame\"] = frame_number\n",
        "  instance[\"team\"] = event_team\n",
        "  instance[\"Start Time [s]\"] =  event_time_seconds\n",
        "  instance[\"Minute\"] = event_time_minutes\n",
        "\n",
        "  if event_team == home_team:\n",
        "    instance[\"interveningOpponents\"] = calc_Number_Intervening(ball, event_player, event_team, frame_away, away_team)\n",
        "    instance[\"interveningTeammates\"] = calc_Number_Intervening(ball, event_player, event_team, frame_home, home_team)\n",
        "  elif event_team == away_team:\n",
        "    instance[\"interveningOpponents\"] = calc_Number_Intervening(ball, event_player, event_team, frame_home, home_team)\n",
        "    instance[\"interveningTeammates\"] = calc_Number_Intervening(ball, event_player, event_team, frame_away, away_team)\n",
        "\n",
        "  instance[\"distance\"] = calc_distance_to_goalCenter(ball, event_team)\n",
        "  instance[\"angle\"] = calc_angle(ball, event_team)\n",
        "  instance[\"bodyPart\"] = calc_BodyPart(event_Subtype)  \n",
        "  instance[\"playType\"] = calc_playType(event_pre_Type, event_pre_Subtype)\n",
        "  instance[\"interferenceOnShooter\"] = calc_interferenceOnShooter(event_team, event_player, frame_home, frame_away)\n",
        "  instance[dep_var] = calc_goal(event_Subtype)\n",
        "  instances.append(instance)\n",
        "\n",
        "instances_df = pd.DataFrame(instances)\n",
        "instances_df = instances_df.round(2)\n",
        "\n",
        "# Perform one-hot encoding\n",
        "columns_to_encode = [\"playType\",\"bodyPart\",\"interferenceOnShooter\"]\n",
        "for col in columns_to_encode:\n",
        "  # Prevent multicollinearity\n",
        "  one_hot = pd.get_dummies(instances_df[col])\n",
        "  # Drop the column as it is now encoded\n",
        "  instances_df = instances_df.drop(col,axis = 1)\n",
        "  # Join the encoded df\n",
        "  instances_df = instances_df.join(one_hot)\n",
        "\n",
        "instances_df['مستقیم از کرنر'] = 0\n",
        "\n",
        "# Move outcome to the last column\n",
        "instances_df = instances_df[[x for x in instances_df.columns if x not in [dep_var]] + [dep_var]]\n",
        "\n",
        "## Output Expected Goals\n",
        "instances_df['xG'] = instances_df.apply(lambda instance: calc_xG(instance), axis=1)\n",
        "\n",
        "display(instances_df.head())"
      ],
      "execution_count": null,
      "outputs": [
        {
          "output_type": "stream",
          "text": [
            "Reading team: home\n",
            "Reading team: away\n"
          ],
          "name": "stdout"
        },
        {
          "output_type": "display_data",
          "data": {
            "text/html": [
              "<div>\n",
              "<style scoped>\n",
              "    .dataframe tbody tr th:only-of-type {\n",
              "        vertical-align: middle;\n",
              "    }\n",
              "\n",
              "    .dataframe tbody tr th {\n",
              "        vertical-align: top;\n",
              "    }\n",
              "\n",
              "    .dataframe thead th {\n",
              "        text-align: right;\n",
              "    }\n",
              "</style>\n",
              "<table border=\"1\" class=\"dataframe\">\n",
              "  <thead>\n",
              "    <tr style=\"text-align: right;\">\n",
              "      <th></th>\n",
              "      <th>Frame</th>\n",
              "      <th>team</th>\n",
              "      <th>Start Time [s]</th>\n",
              "      <th>Minute</th>\n",
              "      <th>interveningOpponents</th>\n",
              "      <th>interveningTeammates</th>\n",
              "      <th>distance</th>\n",
              "      <th>angle</th>\n",
              "      <th>Open Play</th>\n",
              "      <th>ضربه آزاد مستقیم</th>\n",
              "      <th>پنالتی</th>\n",
              "      <th>سر</th>\n",
              "      <th>پا</th>\n",
              "      <th>متوسط</th>\n",
              "      <th>کم</th>\n",
              "      <th>مستقیم از کرنر</th>\n",
              "      <th>isGoal</th>\n",
              "      <th>xG</th>\n",
              "    </tr>\n",
              "  </thead>\n",
              "  <tbody>\n",
              "    <tr>\n",
              "      <th>0</th>\n",
              "      <td>4419</td>\n",
              "      <td>Home</td>\n",
              "      <td>176.76</td>\n",
              "      <td>2.95</td>\n",
              "      <td>3</td>\n",
              "      <td>0</td>\n",
              "      <td>22.60</td>\n",
              "      <td>10.82</td>\n",
              "      <td>1</td>\n",
              "      <td>0</td>\n",
              "      <td>0</td>\n",
              "      <td>0</td>\n",
              "      <td>1</td>\n",
              "      <td>0</td>\n",
              "      <td>1</td>\n",
              "      <td>0</td>\n",
              "      <td>0</td>\n",
              "      <td>0.05</td>\n",
              "    </tr>\n",
              "    <tr>\n",
              "      <th>1</th>\n",
              "      <td>12202</td>\n",
              "      <td>Home</td>\n",
              "      <td>488.08</td>\n",
              "      <td>8.13</td>\n",
              "      <td>1</td>\n",
              "      <td>0</td>\n",
              "      <td>6.07</td>\n",
              "      <td>58.85</td>\n",
              "      <td>1</td>\n",
              "      <td>0</td>\n",
              "      <td>0</td>\n",
              "      <td>0</td>\n",
              "      <td>1</td>\n",
              "      <td>1</td>\n",
              "      <td>0</td>\n",
              "      <td>0</td>\n",
              "      <td>1</td>\n",
              "      <td>0.45</td>\n",
              "    </tr>\n",
              "    <tr>\n",
              "      <th>2</th>\n",
              "      <td>16484</td>\n",
              "      <td>Home</td>\n",
              "      <td>659.36</td>\n",
              "      <td>10.99</td>\n",
              "      <td>2</td>\n",
              "      <td>0</td>\n",
              "      <td>15.76</td>\n",
              "      <td>18.88</td>\n",
              "      <td>1</td>\n",
              "      <td>0</td>\n",
              "      <td>0</td>\n",
              "      <td>0</td>\n",
              "      <td>1</td>\n",
              "      <td>0</td>\n",
              "      <td>1</td>\n",
              "      <td>0</td>\n",
              "      <td>0</td>\n",
              "      <td>0.13</td>\n",
              "    </tr>\n",
              "    <tr>\n",
              "      <th>3</th>\n",
              "      <td>18515</td>\n",
              "      <td>Away</td>\n",
              "      <td>740.60</td>\n",
              "      <td>12.34</td>\n",
              "      <td>1</td>\n",
              "      <td>1</td>\n",
              "      <td>23.57</td>\n",
              "      <td>15.98</td>\n",
              "      <td>1</td>\n",
              "      <td>0</td>\n",
              "      <td>0</td>\n",
              "      <td>0</td>\n",
              "      <td>1</td>\n",
              "      <td>0</td>\n",
              "      <td>1</td>\n",
              "      <td>0</td>\n",
              "      <td>0</td>\n",
              "      <td>0.09</td>\n",
              "    </tr>\n",
              "    <tr>\n",
              "      <th>4</th>\n",
              "      <td>27345</td>\n",
              "      <td>Home</td>\n",
              "      <td>1093.80</td>\n",
              "      <td>18.23</td>\n",
              "      <td>1</td>\n",
              "      <td>0</td>\n",
              "      <td>10.45</td>\n",
              "      <td>33.51</td>\n",
              "      <td>1</td>\n",
              "      <td>0</td>\n",
              "      <td>0</td>\n",
              "      <td>1</td>\n",
              "      <td>0</td>\n",
              "      <td>0</td>\n",
              "      <td>1</td>\n",
              "      <td>0</td>\n",
              "      <td>0</td>\n",
              "      <td>0.15</td>\n",
              "    </tr>\n",
              "  </tbody>\n",
              "</table>\n",
              "</div>"
            ],
            "text/plain": [
              "   Frame  team  Start Time [s]  Minute  interveningOpponents  \\\n",
              "0   4419  Home          176.76    2.95                     3   \n",
              "1  12202  Home          488.08    8.13                     1   \n",
              "2  16484  Home          659.36   10.99                     2   \n",
              "3  18515  Away          740.60   12.34                     1   \n",
              "4  27345  Home         1093.80   18.23                     1   \n",
              "\n",
              "   interveningTeammates  distance  angle  Open Play  ضربه آزاد مستقیم  پنالتی  \\\n",
              "0                     0     22.60  10.82          1                 0       0   \n",
              "1                     0      6.07  58.85          1                 0       0   \n",
              "2                     0     15.76  18.88          1                 0       0   \n",
              "3                     1     23.57  15.98          1                 0       0   \n",
              "4                     0     10.45  33.51          1                 0       0   \n",
              "\n",
              "   سر  پا  متوسط  کم  مستقیم از کرنر  isGoal    xG  \n",
              "0   0   1      0   1               0       0  0.05  \n",
              "1   0   1      1   0               0       1  0.45  \n",
              "2   0   1      0   1               0       0  0.13  \n",
              "3   0   1      0   1               0       0  0.09  \n",
              "4   1   0      0   1               0       0  0.15  "
            ]
          },
          "metadata": {
            "tags": []
          }
        }
      ]
    },
    {
      "cell_type": "code",
      "metadata": {
        "colab": {
          "base_uri": "https://localhost:8080/",
          "height": 142
        },
        "id": "SyYsjSAobaSq",
        "outputId": "ed3be648-c311-42ca-81fb-a870b6317d12"
      },
      "source": [
        "instances_df.groupby(\"team\")[dep_var, \"xG\"].sum()"
      ],
      "execution_count": null,
      "outputs": [
        {
          "output_type": "execute_result",
          "data": {
            "text/html": [
              "<div>\n",
              "<style scoped>\n",
              "    .dataframe tbody tr th:only-of-type {\n",
              "        vertical-align: middle;\n",
              "    }\n",
              "\n",
              "    .dataframe tbody tr th {\n",
              "        vertical-align: top;\n",
              "    }\n",
              "\n",
              "    .dataframe thead th {\n",
              "        text-align: right;\n",
              "    }\n",
              "</style>\n",
              "<table border=\"1\" class=\"dataframe\">\n",
              "  <thead>\n",
              "    <tr style=\"text-align: right;\">\n",
              "      <th></th>\n",
              "      <th>isGoal</th>\n",
              "      <th>xG</th>\n",
              "    </tr>\n",
              "    <tr>\n",
              "      <th>team</th>\n",
              "      <th></th>\n",
              "      <th></th>\n",
              "    </tr>\n",
              "  </thead>\n",
              "  <tbody>\n",
              "    <tr>\n",
              "      <th>Away</th>\n",
              "      <td>2</td>\n",
              "      <td>2.81</td>\n",
              "    </tr>\n",
              "    <tr>\n",
              "      <th>Home</th>\n",
              "      <td>3</td>\n",
              "      <td>2.36</td>\n",
              "    </tr>\n",
              "  </tbody>\n",
              "</table>\n",
              "</div>"
            ],
            "text/plain": [
              "      isGoal    xG\n",
              "team              \n",
              "Away       2  2.81\n",
              "Home       3  2.36"
            ]
          },
          "metadata": {
            "tags": []
          },
          "execution_count": 31
        }
      ]
    },
    {
      "cell_type": "code",
      "metadata": {
        "colab": {
          "base_uri": "https://localhost:8080/"
        },
        "id": "L4bg7DXKfpo0",
        "outputId": "3492d83c-590b-496c-a72a-f6c645518699"
      },
      "source": [
        "# Binning xG\n",
        "\n",
        "def calc_xg_quality(xg):\n",
        "  if xg < 0.07:\n",
        "    return \"poor\"\n",
        "  elif 0.07 <= xg < 0.15:\n",
        "    return \"fair\"\n",
        "  elif 0.15 <= xg < 0.30:\n",
        "    return \"good\"\n",
        "  elif 0.30 <= xg:\n",
        "    return \"very good\"\n",
        "\n",
        "instances_df[\"xG_quality\"] = instances_df[\"xG\"].apply(lambda xg: calc_xg_quality(xg))\n",
        "instances_df.groupby(\"team\")[\"xG_quality\"].value_counts()"
      ],
      "execution_count": null,
      "outputs": [
        {
          "output_type": "execute_result",
          "data": {
            "text/plain": [
              "team  xG_quality\n",
              "Away  good          4\n",
              "      very good     3\n",
              "      fair          2\n",
              "      poor          2\n",
              "Home  fair          5\n",
              "      very good     4\n",
              "      poor          3\n",
              "      good          1\n",
              "Name: xG_quality, dtype: int64"
            ]
          },
          "metadata": {
            "tags": []
          },
          "execution_count": 32
        }
      ]
    },
    {
      "cell_type": "code",
      "metadata": {
        "id": "HckicCs5LEyr"
      },
      "source": [
        "# inspird from plot_events in Metrica_Viz\n",
        "def plot_xG(events, MarkerSize, color, figax=None, field_dimen = (105.0,68.0)):\n",
        "    \"\"\" plot_events( events )\n",
        "    \n",
        "    Plots xG shots on a football pitch. event data can be a single or several rows of a data frame. All distances should be in meters.\n",
        "    \n",
        "    Parameters\n",
        "    -----------\n",
        "        events: row (i.e. instant) of the home team tracking data frame\n",
        "        MarkerSize: marker size\n",
        "        color: color of indicator\n",
        "        fig,ax: Can be used to pass in the (fig,ax) objects of a previously generated pitch. Set to (fig,ax) to use an existing figure, or None (the default) to generate a new pitch plot, \n",
        "        field_dimen: tuple containing the length and width of the pitch in meters. Default is (105,68)\n",
        "        \n",
        "    Returrns\n",
        "    -----------\n",
        "       fig,ax : figure and aixs objects (so that other data can be plotted onto the pitch)\n",
        "\n",
        "    \"\"\"\n",
        "\n",
        "    if figax is None: # create new pitch \n",
        "        fig,ax = mviz.plot_pitch( field_dimen = field_dimen )\n",
        "    else: # overlay on a previously generated pitch\n",
        "        fig,ax = figax \n",
        "    for i,row in events.iterrows():\n",
        "          ax.plot( row['Start X'], row['Start Y'], color+'o', alpha=0.5, MarkerSize = MarkerSize)\n",
        "    return fig,ax"
      ],
      "execution_count": null,
      "outputs": []
    },
    {
      "cell_type": "markdown",
      "metadata": {
        "id": "8WDunl7v4wZ_"
      },
      "source": [
        "Plot the shots with their xG values"
      ]
    },
    {
      "cell_type": "code",
      "metadata": {
        "colab": {
          "base_uri": "https://localhost:8080/",
          "height": 469
        },
        "id": "WHL5t34jICIF",
        "outputId": "7856055e-ec24-4c51-a90b-eb7a8ab54a4c"
      },
      "source": [
        "figax = None\n",
        "for index, instance in instances_df.iterrows():\n",
        "  frame_id = instance[\"Frame\"]\n",
        "  team = instance[\"team\"]\n",
        "  xG = instance[\"xG\"]\n",
        "  color = 'r'\n",
        "  if team == away_team:\n",
        "    color = 'b'\n",
        "  MarkerSize= math.ceil(xG*20) + 10\n",
        "  fig,ax = plot_xG(events[(events.Type==\"SHOT\")&(events[\"Start Frame\"]==frame_id)].iloc[-1:], MarkerSize=MarkerSize, color = color, figax=figax)\n",
        "  figax = (fig,ax)"
      ],
      "execution_count": null,
      "outputs": [
        {
          "output_type": "display_data",
          "data": {
            "image/png": "[encoded data removed]",
            "text/plain": [
              "<Figure size 864x576 with 1 Axes>"
            ]
          },
          "metadata": {
            "tags": []
          }
        }
      ]
    },
    {
      "cell_type": "markdown",
      "metadata": {
        "id": "KFtx-9lsiqup"
      },
      "source": [
        "## Explore Cases"
      ]
    },
    {
      "cell_type": "code",
      "metadata": {
        "colab": {
          "base_uri": "https://localhost:8080/",
          "height": 847
        },
        "id": "XDt_VIHdmLtd",
        "outputId": "6debc938-8729-4f0e-922a-16986f450a72"
      },
      "source": [
        "instances_df.sort_values(by=[\"xG\"])"
      ],
      "execution_count": null,
      "outputs": [
        {
          "output_type": "execute_result",
          "data": {
            "text/html": [
              "<div>\n",
              "<style scoped>\n",
              "    .dataframe tbody tr th:only-of-type {\n",
              "        vertical-align: middle;\n",
              "    }\n",
              "\n",
              "    .dataframe tbody tr th {\n",
              "        vertical-align: top;\n",
              "    }\n",
              "\n",
              "    .dataframe thead th {\n",
              "        text-align: right;\n",
              "    }\n",
              "</style>\n",
              "<table border=\"1\" class=\"dataframe\">\n",
              "  <thead>\n",
              "    <tr style=\"text-align: right;\">\n",
              "      <th></th>\n",
              "      <th>Frame</th>\n",
              "      <th>team</th>\n",
              "      <th>Start Time [s]</th>\n",
              "      <th>Minute</th>\n",
              "      <th>interveningOpponents</th>\n",
              "      <th>interveningTeammates</th>\n",
              "      <th>distance</th>\n",
              "      <th>angle</th>\n",
              "      <th>Open Play</th>\n",
              "      <th>ضربه آزاد مستقیم</th>\n",
              "      <th>پنالتی</th>\n",
              "      <th>سر</th>\n",
              "      <th>پا</th>\n",
              "      <th>متوسط</th>\n",
              "      <th>کم</th>\n",
              "      <th>مستقیم از کرنر</th>\n",
              "      <th>isGoal</th>\n",
              "      <th>xG</th>\n",
              "      <th>xG_quality</th>\n",
              "    </tr>\n",
              "  </thead>\n",
              "  <tbody>\n",
              "    <tr>\n",
              "      <th>5</th>\n",
              "      <td>29754</td>\n",
              "      <td>Home</td>\n",
              "      <td>1190.16</td>\n",
              "      <td>19.84</td>\n",
              "      <td>3</td>\n",
              "      <td>0</td>\n",
              "      <td>25.39</td>\n",
              "      <td>13.83</td>\n",
              "      <td>1</td>\n",
              "      <td>0</td>\n",
              "      <td>0</td>\n",
              "      <td>0</td>\n",
              "      <td>1</td>\n",
              "      <td>0</td>\n",
              "      <td>1</td>\n",
              "      <td>0</td>\n",
              "      <td>0</td>\n",
              "      <td>0.04</td>\n",
              "      <td>poor</td>\n",
              "    </tr>\n",
              "    <tr>\n",
              "      <th>0</th>\n",
              "      <td>4419</td>\n",
              "      <td>Home</td>\n",
              "      <td>176.76</td>\n",
              "      <td>2.95</td>\n",
              "      <td>3</td>\n",
              "      <td>0</td>\n",
              "      <td>22.60</td>\n",
              "      <td>10.82</td>\n",
              "      <td>1</td>\n",
              "      <td>0</td>\n",
              "      <td>0</td>\n",
              "      <td>0</td>\n",
              "      <td>1</td>\n",
              "      <td>0</td>\n",
              "      <td>1</td>\n",
              "      <td>0</td>\n",
              "      <td>0</td>\n",
              "      <td>0.05</td>\n",
              "      <td>poor</td>\n",
              "    </tr>\n",
              "    <tr>\n",
              "      <th>19</th>\n",
              "      <td>121027</td>\n",
              "      <td>Home</td>\n",
              "      <td>4841.08</td>\n",
              "      <td>80.68</td>\n",
              "      <td>2</td>\n",
              "      <td>0</td>\n",
              "      <td>22.93</td>\n",
              "      <td>17.66</td>\n",
              "      <td>1</td>\n",
              "      <td>0</td>\n",
              "      <td>0</td>\n",
              "      <td>0</td>\n",
              "      <td>1</td>\n",
              "      <td>1</td>\n",
              "      <td>0</td>\n",
              "      <td>0</td>\n",
              "      <td>1</td>\n",
              "      <td>0.05</td>\n",
              "      <td>poor</td>\n",
              "    </tr>\n",
              "    <tr>\n",
              "      <th>9</th>\n",
              "      <td>64772</td>\n",
              "      <td>Away</td>\n",
              "      <td>2590.88</td>\n",
              "      <td>43.18</td>\n",
              "      <td>3</td>\n",
              "      <td>1</td>\n",
              "      <td>24.21</td>\n",
              "      <td>16.99</td>\n",
              "      <td>1</td>\n",
              "      <td>0</td>\n",
              "      <td>0</td>\n",
              "      <td>0</td>\n",
              "      <td>1</td>\n",
              "      <td>0</td>\n",
              "      <td>1</td>\n",
              "      <td>0</td>\n",
              "      <td>0</td>\n",
              "      <td>0.05</td>\n",
              "      <td>poor</td>\n",
              "    </tr>\n",
              "    <tr>\n",
              "      <th>11</th>\n",
              "      <td>69887</td>\n",
              "      <td>Away</td>\n",
              "      <td>2795.48</td>\n",
              "      <td>46.59</td>\n",
              "      <td>2</td>\n",
              "      <td>0</td>\n",
              "      <td>24.58</td>\n",
              "      <td>15.25</td>\n",
              "      <td>1</td>\n",
              "      <td>0</td>\n",
              "      <td>0</td>\n",
              "      <td>0</td>\n",
              "      <td>1</td>\n",
              "      <td>0</td>\n",
              "      <td>1</td>\n",
              "      <td>0</td>\n",
              "      <td>0</td>\n",
              "      <td>0.06</td>\n",
              "      <td>poor</td>\n",
              "    </tr>\n",
              "    <tr>\n",
              "      <th>23</th>\n",
              "      <td>139891</td>\n",
              "      <td>Home</td>\n",
              "      <td>5595.64</td>\n",
              "      <td>93.26</td>\n",
              "      <td>3</td>\n",
              "      <td>0</td>\n",
              "      <td>31.11</td>\n",
              "      <td>13.40</td>\n",
              "      <td>0</td>\n",
              "      <td>1</td>\n",
              "      <td>0</td>\n",
              "      <td>0</td>\n",
              "      <td>1</td>\n",
              "      <td>0</td>\n",
              "      <td>1</td>\n",
              "      <td>0</td>\n",
              "      <td>0</td>\n",
              "      <td>0.07</td>\n",
              "      <td>fair</td>\n",
              "    </tr>\n",
              "    <tr>\n",
              "      <th>18</th>\n",
              "      <td>117218</td>\n",
              "      <td>Home</td>\n",
              "      <td>4688.72</td>\n",
              "      <td>78.15</td>\n",
              "      <td>2</td>\n",
              "      <td>0</td>\n",
              "      <td>14.01</td>\n",
              "      <td>23.45</td>\n",
              "      <td>1</td>\n",
              "      <td>0</td>\n",
              "      <td>0</td>\n",
              "      <td>1</td>\n",
              "      <td>0</td>\n",
              "      <td>0</td>\n",
              "      <td>1</td>\n",
              "      <td>0</td>\n",
              "      <td>0</td>\n",
              "      <td>0.07</td>\n",
              "      <td>fair</td>\n",
              "    </tr>\n",
              "    <tr>\n",
              "      <th>10</th>\n",
              "      <td>67067</td>\n",
              "      <td>Home</td>\n",
              "      <td>2682.68</td>\n",
              "      <td>44.71</td>\n",
              "      <td>1</td>\n",
              "      <td>0</td>\n",
              "      <td>22.64</td>\n",
              "      <td>11.07</td>\n",
              "      <td>1</td>\n",
              "      <td>0</td>\n",
              "      <td>0</td>\n",
              "      <td>0</td>\n",
              "      <td>1</td>\n",
              "      <td>0</td>\n",
              "      <td>1</td>\n",
              "      <td>0</td>\n",
              "      <td>0</td>\n",
              "      <td>0.08</td>\n",
              "      <td>fair</td>\n",
              "    </tr>\n",
              "    <tr>\n",
              "      <th>3</th>\n",
              "      <td>18515</td>\n",
              "      <td>Away</td>\n",
              "      <td>740.60</td>\n",
              "      <td>12.34</td>\n",
              "      <td>1</td>\n",
              "      <td>1</td>\n",
              "      <td>23.57</td>\n",
              "      <td>15.98</td>\n",
              "      <td>1</td>\n",
              "      <td>0</td>\n",
              "      <td>0</td>\n",
              "      <td>0</td>\n",
              "      <td>1</td>\n",
              "      <td>0</td>\n",
              "      <td>1</td>\n",
              "      <td>0</td>\n",
              "      <td>0</td>\n",
              "      <td>0.09</td>\n",
              "      <td>fair</td>\n",
              "    </tr>\n",
              "    <tr>\n",
              "      <th>7</th>\n",
              "      <td>56079</td>\n",
              "      <td>Home</td>\n",
              "      <td>2243.16</td>\n",
              "      <td>37.39</td>\n",
              "      <td>2</td>\n",
              "      <td>0</td>\n",
              "      <td>12.55</td>\n",
              "      <td>28.47</td>\n",
              "      <td>1</td>\n",
              "      <td>0</td>\n",
              "      <td>0</td>\n",
              "      <td>1</td>\n",
              "      <td>0</td>\n",
              "      <td>0</td>\n",
              "      <td>1</td>\n",
              "      <td>0</td>\n",
              "      <td>0</td>\n",
              "      <td>0.09</td>\n",
              "      <td>fair</td>\n",
              "    </tr>\n",
              "    <tr>\n",
              "      <th>2</th>\n",
              "      <td>16484</td>\n",
              "      <td>Home</td>\n",
              "      <td>659.36</td>\n",
              "      <td>10.99</td>\n",
              "      <td>2</td>\n",
              "      <td>0</td>\n",
              "      <td>15.76</td>\n",
              "      <td>18.88</td>\n",
              "      <td>1</td>\n",
              "      <td>0</td>\n",
              "      <td>0</td>\n",
              "      <td>0</td>\n",
              "      <td>1</td>\n",
              "      <td>0</td>\n",
              "      <td>1</td>\n",
              "      <td>0</td>\n",
              "      <td>0</td>\n",
              "      <td>0.13</td>\n",
              "      <td>fair</td>\n",
              "    </tr>\n",
              "    <tr>\n",
              "      <th>13</th>\n",
              "      <td>86191</td>\n",
              "      <td>Away</td>\n",
              "      <td>3447.64</td>\n",
              "      <td>57.46</td>\n",
              "      <td>2</td>\n",
              "      <td>1</td>\n",
              "      <td>17.32</td>\n",
              "      <td>22.95</td>\n",
              "      <td>1</td>\n",
              "      <td>0</td>\n",
              "      <td>0</td>\n",
              "      <td>0</td>\n",
              "      <td>1</td>\n",
              "      <td>0</td>\n",
              "      <td>1</td>\n",
              "      <td>0</td>\n",
              "      <td>0</td>\n",
              "      <td>0.13</td>\n",
              "      <td>fair</td>\n",
              "    </tr>\n",
              "    <tr>\n",
              "      <th>4</th>\n",
              "      <td>27345</td>\n",
              "      <td>Home</td>\n",
              "      <td>1093.80</td>\n",
              "      <td>18.23</td>\n",
              "      <td>1</td>\n",
              "      <td>0</td>\n",
              "      <td>10.45</td>\n",
              "      <td>33.51</td>\n",
              "      <td>1</td>\n",
              "      <td>0</td>\n",
              "      <td>0</td>\n",
              "      <td>1</td>\n",
              "      <td>0</td>\n",
              "      <td>0</td>\n",
              "      <td>1</td>\n",
              "      <td>0</td>\n",
              "      <td>0</td>\n",
              "      <td>0.15</td>\n",
              "      <td>good</td>\n",
              "    </tr>\n",
              "    <tr>\n",
              "      <th>14</th>\n",
              "      <td>90165</td>\n",
              "      <td>Away</td>\n",
              "      <td>3606.60</td>\n",
              "      <td>60.11</td>\n",
              "      <td>1</td>\n",
              "      <td>0</td>\n",
              "      <td>12.81</td>\n",
              "      <td>15.70</td>\n",
              "      <td>1</td>\n",
              "      <td>0</td>\n",
              "      <td>0</td>\n",
              "      <td>0</td>\n",
              "      <td>1</td>\n",
              "      <td>0</td>\n",
              "      <td>1</td>\n",
              "      <td>0</td>\n",
              "      <td>0</td>\n",
              "      <td>0.20</td>\n",
              "      <td>good</td>\n",
              "    </tr>\n",
              "    <tr>\n",
              "      <th>16</th>\n",
              "      <td>111758</td>\n",
              "      <td>Away</td>\n",
              "      <td>4470.32</td>\n",
              "      <td>74.51</td>\n",
              "      <td>2</td>\n",
              "      <td>1</td>\n",
              "      <td>11.42</td>\n",
              "      <td>28.46</td>\n",
              "      <td>1</td>\n",
              "      <td>0</td>\n",
              "      <td>0</td>\n",
              "      <td>0</td>\n",
              "      <td>1</td>\n",
              "      <td>0</td>\n",
              "      <td>1</td>\n",
              "      <td>0</td>\n",
              "      <td>0</td>\n",
              "      <td>0.22</td>\n",
              "      <td>good</td>\n",
              "    </tr>\n",
              "    <tr>\n",
              "      <th>21</th>\n",
              "      <td>132570</td>\n",
              "      <td>Away</td>\n",
              "      <td>5302.80</td>\n",
              "      <td>88.38</td>\n",
              "      <td>2</td>\n",
              "      <td>4</td>\n",
              "      <td>20.48</td>\n",
              "      <td>18.66</td>\n",
              "      <td>0</td>\n",
              "      <td>1</td>\n",
              "      <td>0</td>\n",
              "      <td>0</td>\n",
              "      <td>1</td>\n",
              "      <td>0</td>\n",
              "      <td>1</td>\n",
              "      <td>0</td>\n",
              "      <td>0</td>\n",
              "      <td>0.28</td>\n",
              "      <td>good</td>\n",
              "    </tr>\n",
              "    <tr>\n",
              "      <th>8</th>\n",
              "      <td>63362</td>\n",
              "      <td>Away</td>\n",
              "      <td>2534.48</td>\n",
              "      <td>42.24</td>\n",
              "      <td>0</td>\n",
              "      <td>0</td>\n",
              "      <td>6.76</td>\n",
              "      <td>56.76</td>\n",
              "      <td>1</td>\n",
              "      <td>0</td>\n",
              "      <td>0</td>\n",
              "      <td>1</td>\n",
              "      <td>0</td>\n",
              "      <td>1</td>\n",
              "      <td>0</td>\n",
              "      <td>0</td>\n",
              "      <td>0</td>\n",
              "      <td>0.29</td>\n",
              "      <td>good</td>\n",
              "    </tr>\n",
              "    <tr>\n",
              "      <th>22</th>\n",
              "      <td>136060</td>\n",
              "      <td>Away</td>\n",
              "      <td>5442.40</td>\n",
              "      <td>90.71</td>\n",
              "      <td>1</td>\n",
              "      <td>0</td>\n",
              "      <td>5.59</td>\n",
              "      <td>63.39</td>\n",
              "      <td>1</td>\n",
              "      <td>0</td>\n",
              "      <td>0</td>\n",
              "      <td>1</td>\n",
              "      <td>0</td>\n",
              "      <td>0</td>\n",
              "      <td>1</td>\n",
              "      <td>0</td>\n",
              "      <td>0</td>\n",
              "      <td>0.33</td>\n",
              "      <td>very good</td>\n",
              "    </tr>\n",
              "    <tr>\n",
              "      <th>20</th>\n",
              "      <td>124336</td>\n",
              "      <td>Home</td>\n",
              "      <td>4973.44</td>\n",
              "      <td>82.89</td>\n",
              "      <td>0</td>\n",
              "      <td>0</td>\n",
              "      <td>6.70</td>\n",
              "      <td>57.21</td>\n",
              "      <td>1</td>\n",
              "      <td>0</td>\n",
              "      <td>0</td>\n",
              "      <td>1</td>\n",
              "      <td>0</td>\n",
              "      <td>0</td>\n",
              "      <td>1</td>\n",
              "      <td>0</td>\n",
              "      <td>0</td>\n",
              "      <td>0.35</td>\n",
              "      <td>very good</td>\n",
              "    </tr>\n",
              "    <tr>\n",
              "      <th>12</th>\n",
              "      <td>73983</td>\n",
              "      <td>Home</td>\n",
              "      <td>2959.32</td>\n",
              "      <td>49.32</td>\n",
              "      <td>1</td>\n",
              "      <td>0</td>\n",
              "      <td>5.18</td>\n",
              "      <td>70.28</td>\n",
              "      <td>1</td>\n",
              "      <td>0</td>\n",
              "      <td>0</td>\n",
              "      <td>1</td>\n",
              "      <td>0</td>\n",
              "      <td>0</td>\n",
              "      <td>1</td>\n",
              "      <td>0</td>\n",
              "      <td>1</td>\n",
              "      <td>0.37</td>\n",
              "      <td>very good</td>\n",
              "    </tr>\n",
              "    <tr>\n",
              "      <th>6</th>\n",
              "      <td>53049</td>\n",
              "      <td>Away</td>\n",
              "      <td>2121.96</td>\n",
              "      <td>35.37</td>\n",
              "      <td>1</td>\n",
              "      <td>0</td>\n",
              "      <td>8.48</td>\n",
              "      <td>44.71</td>\n",
              "      <td>1</td>\n",
              "      <td>0</td>\n",
              "      <td>0</td>\n",
              "      <td>0</td>\n",
              "      <td>1</td>\n",
              "      <td>0</td>\n",
              "      <td>1</td>\n",
              "      <td>0</td>\n",
              "      <td>1</td>\n",
              "      <td>0.40</td>\n",
              "      <td>very good</td>\n",
              "    </tr>\n",
              "    <tr>\n",
              "      <th>1</th>\n",
              "      <td>12202</td>\n",
              "      <td>Home</td>\n",
              "      <td>488.08</td>\n",
              "      <td>8.13</td>\n",
              "      <td>1</td>\n",
              "      <td>0</td>\n",
              "      <td>6.07</td>\n",
              "      <td>58.85</td>\n",
              "      <td>1</td>\n",
              "      <td>0</td>\n",
              "      <td>0</td>\n",
              "      <td>0</td>\n",
              "      <td>1</td>\n",
              "      <td>1</td>\n",
              "      <td>0</td>\n",
              "      <td>0</td>\n",
              "      <td>1</td>\n",
              "      <td>0.45</td>\n",
              "      <td>very good</td>\n",
              "    </tr>\n",
              "    <tr>\n",
              "      <th>15</th>\n",
              "      <td>98880</td>\n",
              "      <td>Home</td>\n",
              "      <td>3955.20</td>\n",
              "      <td>65.92</td>\n",
              "      <td>1</td>\n",
              "      <td>0</td>\n",
              "      <td>6.23</td>\n",
              "      <td>45.75</td>\n",
              "      <td>1</td>\n",
              "      <td>0</td>\n",
              "      <td>0</td>\n",
              "      <td>0</td>\n",
              "      <td>1</td>\n",
              "      <td>0</td>\n",
              "      <td>1</td>\n",
              "      <td>0</td>\n",
              "      <td>0</td>\n",
              "      <td>0.46</td>\n",
              "      <td>very good</td>\n",
              "    </tr>\n",
              "    <tr>\n",
              "      <th>17</th>\n",
              "      <td>115009</td>\n",
              "      <td>Away</td>\n",
              "      <td>4600.36</td>\n",
              "      <td>76.67</td>\n",
              "      <td>1</td>\n",
              "      <td>0</td>\n",
              "      <td>11.89</td>\n",
              "      <td>34.00</td>\n",
              "      <td>0</td>\n",
              "      <td>0</td>\n",
              "      <td>1</td>\n",
              "      <td>0</td>\n",
              "      <td>1</td>\n",
              "      <td>0</td>\n",
              "      <td>1</td>\n",
              "      <td>0</td>\n",
              "      <td>1</td>\n",
              "      <td>0.76</td>\n",
              "      <td>very good</td>\n",
              "    </tr>\n",
              "  </tbody>\n",
              "</table>\n",
              "</div>"
            ],
            "text/plain": [
              "     Frame  team  Start Time [s]  Minute  interveningOpponents  \\\n",
              "5    29754  Home         1190.16   19.84                     3   \n",
              "0     4419  Home          176.76    2.95                     3   \n",
              "19  121027  Home         4841.08   80.68                     2   \n",
              "9    64772  Away         2590.88   43.18                     3   \n",
              "11   69887  Away         2795.48   46.59                     2   \n",
              "23  139891  Home         5595.64   93.26                     3   \n",
              "18  117218  Home         4688.72   78.15                     2   \n",
              "10   67067  Home         2682.68   44.71                     1   \n",
              "3    18515  Away          740.60   12.34                     1   \n",
              "7    56079  Home         2243.16   37.39                     2   \n",
              "2    16484  Home          659.36   10.99                     2   \n",
              "13   86191  Away         3447.64   57.46                     2   \n",
              "4    27345  Home         1093.80   18.23                     1   \n",
              "14   90165  Away         3606.60   60.11                     1   \n",
              "16  111758  Away         4470.32   74.51                     2   \n",
              "21  132570  Away         5302.80   88.38                     2   \n",
              "8    63362  Away         2534.48   42.24                     0   \n",
              "22  136060  Away         5442.40   90.71                     1   \n",
              "20  124336  Home         4973.44   82.89                     0   \n",
              "12   73983  Home         2959.32   49.32                     1   \n",
              "6    53049  Away         2121.96   35.37                     1   \n",
              "1    12202  Home          488.08    8.13                     1   \n",
              "15   98880  Home         3955.20   65.92                     1   \n",
              "17  115009  Away         4600.36   76.67                     1   \n",
              "\n",
              "    interveningTeammates  distance  angle  Open Play  ضربه آزاد مستقیم  \\\n",
              "5                      0     25.39  13.83          1                 0   \n",
              "0                      0     22.60  10.82          1                 0   \n",
              "19                     0     22.93  17.66          1                 0   \n",
              "9                      1     24.21  16.99          1                 0   \n",
              "11                     0     24.58  15.25          1                 0   \n",
              "23                     0     31.11  13.40          0                 1   \n",
              "18                     0     14.01  23.45          1                 0   \n",
              "10                     0     22.64  11.07          1                 0   \n",
              "3                      1     23.57  15.98          1                 0   \n",
              "7                      0     12.55  28.47          1                 0   \n",
              "2                      0     15.76  18.88          1                 0   \n",
              "13                     1     17.32  22.95          1                 0   \n",
              "4                      0     10.45  33.51          1                 0   \n",
              "14                     0     12.81  15.70          1                 0   \n",
              "16                     1     11.42  28.46          1                 0   \n",
              "21                     4     20.48  18.66          0                 1   \n",
              "8                      0      6.76  56.76          1                 0   \n",
              "22                     0      5.59  63.39          1                 0   \n",
              "20                     0      6.70  57.21          1                 0   \n",
              "12                     0      5.18  70.28          1                 0   \n",
              "6                      0      8.48  44.71          1                 0   \n",
              "1                      0      6.07  58.85          1                 0   \n",
              "15                     0      6.23  45.75          1                 0   \n",
              "17                     0     11.89  34.00          0                 0   \n",
              "\n",
              "    پنالتی  سر  پا  متوسط  کم  مستقیم از کرنر  isGoal    xG xG_quality  \n",
              "5        0   0   1      0   1               0       0  0.04       poor  \n",
              "0        0   0   1      0   1               0       0  0.05       poor  \n",
              "19       0   0   1      1   0               0       1  0.05       poor  \n",
              "9        0   0   1      0   1               0       0  0.05       poor  \n",
              "11       0   0   1      0   1               0       0  0.06       poor  \n",
              "23       0   0   1      0   1               0       0  0.07       fair  \n",
              "18       0   1   0      0   1               0       0  0.07       fair  \n",
              "10       0   0   1      0   1               0       0  0.08       fair  \n",
              "3        0   0   1      0   1               0       0  0.09       fair  \n",
              "7        0   1   0      0   1               0       0  0.09       fair  \n",
              "2        0   0   1      0   1               0       0  0.13       fair  \n",
              "13       0   0   1      0   1               0       0  0.13       fair  \n",
              "4        0   1   0      0   1               0       0  0.15       good  \n",
              "14       0   0   1      0   1               0       0  0.20       good  \n",
              "16       0   0   1      0   1               0       0  0.22       good  \n",
              "21       0   0   1      0   1               0       0  0.28       good  \n",
              "8        0   1   0      1   0               0       0  0.29       good  \n",
              "22       0   1   0      0   1               0       0  0.33  very good  \n",
              "20       0   1   0      0   1               0       0  0.35  very good  \n",
              "12       0   1   0      0   1               0       1  0.37  very good  \n",
              "6        0   0   1      0   1               0       1  0.40  very good  \n",
              "1        0   0   1      1   0               0       1  0.45  very good  \n",
              "15       0   0   1      0   1               0       0  0.46  very good  \n",
              "17       1   0   1      0   1               0       1  0.76  very good  "
            ]
          },
          "metadata": {
            "tags": []
          },
          "execution_count": 35
        }
      ]
    },
    {
      "cell_type": "code",
      "metadata": {
        "id": "BL35iGP8fWLH",
        "colab": {
          "base_uri": "https://localhost:8080/",
          "height": 469
        },
        "outputId": "92ea0ba6-f386-4aeb-9974-45c3f8953418"
      },
      "source": [
        "# Plot a shot taken by the Home team\n",
        "frame_id = 12202\n",
        "fig,ax = mviz.plot_events(events[(events.Type==\"SHOT\")&(events[\"Start Frame\"]==frame_id)].iloc[-1:], indicators = ['Marker','Arrow'], annotate=False, field_dimen = (105.0,68.0))\n",
        "fig,ax = mviz.plot_frame(tracking_home.loc[frame_id], tracking_away.loc[frame_id], field_dimen = (105.0,68.0), figax = (fig,ax) )"
      ],
      "execution_count": null,
      "outputs": [
        {
          "output_type": "display_data",
          "data": {
            "image/png": "[encoded data removed]",
            "text/plain": [
              "<Figure size 864x576 with 1 Axes>"
            ]
          },
          "metadata": {
            "tags": []
          }
        }
      ]
    },
    {
      "cell_type": "code",
      "metadata": {
        "colab": {
          "base_uri": "https://localhost:8080/",
          "height": 469
        },
        "id": "CexyXI2Jm6EB",
        "outputId": "8307634e-c24f-4311-9fef-2487f16301bd"
      },
      "source": [
        "# Plot a shot taken by the Away team\n",
        "frame_id = 115009\n",
        "fig,ax = mviz.plot_events(events[(events.Type==\"SHOT\")&(events[\"Start Frame\"]==frame_id)].iloc[-1:], indicators = ['Marker','Arrow'], annotate=False, field_dimen = (105.0,68.0))\n",
        "fig,ax = mviz.plot_frame(tracking_home.loc[frame_id], tracking_away.loc[frame_id], field_dimen = (105.0,68.0), figax = (fig,ax) )"
      ],
      "execution_count": null,
      "outputs": [
        {
          "output_type": "display_data",
          "data": {
            "image/png": "[encoded data removed]",
            "text/plain": [
              "<Figure size 864x576 with 1 Axes>"
            ]
          },
          "metadata": {
            "tags": []
          }
        }
      ]
    },
    {
      "cell_type": "markdown",
      "metadata": {
        "id": "VnFO4ziNsm1M"
      },
      "source": [
        "## THE END!"
      ]
    }
  ]
}